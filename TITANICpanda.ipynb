{
 "cells": [
  {
   "cell_type": "markdown",
   "metadata": {},
   "source": [
    "## Loading the Dataset\n",
    "\n",
    "This section of the notebook loads the Titanic dataset using `pandas` and displays the first few rows to get an initial understanding of the data."
   ]
  },
  {
   "cell_type": "code",
   "execution_count": 11,
   "metadata": {},
   "outputs": [
    {
     "data": {
      "text/html": [
       "<div>\n",
       "<style scoped>\n",
       "    .dataframe tbody tr th:only-of-type {\n",
       "        vertical-align: middle;\n",
       "    }\n",
       "\n",
       "    .dataframe tbody tr th {\n",
       "        vertical-align: top;\n",
       "    }\n",
       "\n",
       "    .dataframe thead th {\n",
       "        text-align: right;\n",
       "    }\n",
       "</style>\n",
       "<table border=\"1\" class=\"dataframe\">\n",
       "  <thead>\n",
       "    <tr style=\"text-align: right;\">\n",
       "      <th></th>\n",
       "      <th>PassengerId</th>\n",
       "      <th>Survived</th>\n",
       "      <th>Pclass</th>\n",
       "      <th>Age</th>\n",
       "      <th>SibSp</th>\n",
       "      <th>Parch</th>\n",
       "      <th>Fare</th>\n",
       "    </tr>\n",
       "  </thead>\n",
       "  <tbody>\n",
       "    <tr>\n",
       "      <th>count</th>\n",
       "      <td>891.000000</td>\n",
       "      <td>891.000000</td>\n",
       "      <td>891.000000</td>\n",
       "      <td>714.000000</td>\n",
       "      <td>891.000000</td>\n",
       "      <td>891.000000</td>\n",
       "      <td>891.000000</td>\n",
       "    </tr>\n",
       "    <tr>\n",
       "      <th>mean</th>\n",
       "      <td>446.000000</td>\n",
       "      <td>0.383838</td>\n",
       "      <td>2.308642</td>\n",
       "      <td>29.699118</td>\n",
       "      <td>0.523008</td>\n",
       "      <td>0.381594</td>\n",
       "      <td>32.204208</td>\n",
       "    </tr>\n",
       "    <tr>\n",
       "      <th>std</th>\n",
       "      <td>257.353842</td>\n",
       "      <td>0.486592</td>\n",
       "      <td>0.836071</td>\n",
       "      <td>14.526497</td>\n",
       "      <td>1.102743</td>\n",
       "      <td>0.806057</td>\n",
       "      <td>49.693429</td>\n",
       "    </tr>\n",
       "    <tr>\n",
       "      <th>min</th>\n",
       "      <td>1.000000</td>\n",
       "      <td>0.000000</td>\n",
       "      <td>1.000000</td>\n",
       "      <td>0.420000</td>\n",
       "      <td>0.000000</td>\n",
       "      <td>0.000000</td>\n",
       "      <td>0.000000</td>\n",
       "    </tr>\n",
       "    <tr>\n",
       "      <th>25%</th>\n",
       "      <td>223.500000</td>\n",
       "      <td>0.000000</td>\n",
       "      <td>2.000000</td>\n",
       "      <td>20.125000</td>\n",
       "      <td>0.000000</td>\n",
       "      <td>0.000000</td>\n",
       "      <td>7.910400</td>\n",
       "    </tr>\n",
       "    <tr>\n",
       "      <th>50%</th>\n",
       "      <td>446.000000</td>\n",
       "      <td>0.000000</td>\n",
       "      <td>3.000000</td>\n",
       "      <td>28.000000</td>\n",
       "      <td>0.000000</td>\n",
       "      <td>0.000000</td>\n",
       "      <td>14.454200</td>\n",
       "    </tr>\n",
       "    <tr>\n",
       "      <th>75%</th>\n",
       "      <td>668.500000</td>\n",
       "      <td>1.000000</td>\n",
       "      <td>3.000000</td>\n",
       "      <td>38.000000</td>\n",
       "      <td>1.000000</td>\n",
       "      <td>0.000000</td>\n",
       "      <td>31.000000</td>\n",
       "    </tr>\n",
       "    <tr>\n",
       "      <th>max</th>\n",
       "      <td>891.000000</td>\n",
       "      <td>1.000000</td>\n",
       "      <td>3.000000</td>\n",
       "      <td>80.000000</td>\n",
       "      <td>8.000000</td>\n",
       "      <td>6.000000</td>\n",
       "      <td>512.329200</td>\n",
       "    </tr>\n",
       "  </tbody>\n",
       "</table>\n",
       "</div>"
      ],
      "text/plain": [
       "       PassengerId    Survived      Pclass         Age       SibSp  \\\n",
       "count   891.000000  891.000000  891.000000  714.000000  891.000000   \n",
       "mean    446.000000    0.383838    2.308642   29.699118    0.523008   \n",
       "std     257.353842    0.486592    0.836071   14.526497    1.102743   \n",
       "min       1.000000    0.000000    1.000000    0.420000    0.000000   \n",
       "25%     223.500000    0.000000    2.000000   20.125000    0.000000   \n",
       "50%     446.000000    0.000000    3.000000   28.000000    0.000000   \n",
       "75%     668.500000    1.000000    3.000000   38.000000    1.000000   \n",
       "max     891.000000    1.000000    3.000000   80.000000    8.000000   \n",
       "\n",
       "            Parch        Fare  \n",
       "count  891.000000  891.000000  \n",
       "mean     0.381594   32.204208  \n",
       "std      0.806057   49.693429  \n",
       "min      0.000000    0.000000  \n",
       "25%      0.000000    7.910400  \n",
       "50%      0.000000   14.454200  \n",
       "75%      0.000000   31.000000  \n",
       "max      6.000000  512.329200  "
      ]
     },
     "execution_count": 11,
     "metadata": {},
     "output_type": "execute_result"
    }
   ],
   "source": [
    "(data.describe())"
   ]
  },
  {
   "cell_type": "code",
   "execution_count": 10,
   "metadata": {},
   "outputs": [
    {
     "data": {
      "text/plain": [
       "PassengerId      0\n",
       "Survived         0\n",
       "Pclass           0\n",
       "Name             0\n",
       "Sex              0\n",
       "Age            177\n",
       "SibSp            0\n",
       "Parch            0\n",
       "Ticket           0\n",
       "Fare             0\n",
       "Cabin          687\n",
       "Embarked         2\n",
       "dtype: int64"
      ]
     },
     "execution_count": 10,
     "metadata": {},
     "output_type": "execute_result"
    }
   ],
   "source": [
    "(data.isnull().sum())"
   ]
  },
  {
   "cell_type": "code",
   "execution_count": 9,
   "metadata": {},
   "outputs": [
    {
     "data": {
      "text/html": [
       "<div>\n",
       "<style scoped>\n",
       "    .dataframe tbody tr th:only-of-type {\n",
       "        vertical-align: middle;\n",
       "    }\n",
       "\n",
       "    .dataframe tbody tr th {\n",
       "        vertical-align: top;\n",
       "    }\n",
       "\n",
       "    .dataframe thead th {\n",
       "        text-align: right;\n",
       "    }\n",
       "</style>\n",
       "<table border=\"1\" class=\"dataframe\">\n",
       "  <thead>\n",
       "    <tr style=\"text-align: right;\">\n",
       "      <th></th>\n",
       "      <th>PassengerId</th>\n",
       "      <th>Survived</th>\n",
       "      <th>Pclass</th>\n",
       "      <th>Name</th>\n",
       "      <th>Sex</th>\n",
       "      <th>Age</th>\n",
       "      <th>SibSp</th>\n",
       "      <th>Parch</th>\n",
       "      <th>Ticket</th>\n",
       "      <th>Fare</th>\n",
       "      <th>Cabin</th>\n",
       "      <th>Embarked</th>\n",
       "    </tr>\n",
       "  </thead>\n",
       "  <tbody>\n",
       "    <tr>\n",
       "      <th>0</th>\n",
       "      <td>1</td>\n",
       "      <td>0</td>\n",
       "      <td>3</td>\n",
       "      <td>Braund, Mr. Owen Harris</td>\n",
       "      <td>male</td>\n",
       "      <td>22.0</td>\n",
       "      <td>1</td>\n",
       "      <td>0</td>\n",
       "      <td>A/5 21171</td>\n",
       "      <td>7.2500</td>\n",
       "      <td>NaN</td>\n",
       "      <td>S</td>\n",
       "    </tr>\n",
       "    <tr>\n",
       "      <th>1</th>\n",
       "      <td>2</td>\n",
       "      <td>1</td>\n",
       "      <td>1</td>\n",
       "      <td>Cumings, Mrs. John Bradley (Florence Briggs Th...</td>\n",
       "      <td>female</td>\n",
       "      <td>38.0</td>\n",
       "      <td>1</td>\n",
       "      <td>0</td>\n",
       "      <td>PC 17599</td>\n",
       "      <td>71.2833</td>\n",
       "      <td>C85</td>\n",
       "      <td>C</td>\n",
       "    </tr>\n",
       "    <tr>\n",
       "      <th>2</th>\n",
       "      <td>3</td>\n",
       "      <td>1</td>\n",
       "      <td>3</td>\n",
       "      <td>Heikkinen, Miss. Laina</td>\n",
       "      <td>female</td>\n",
       "      <td>26.0</td>\n",
       "      <td>0</td>\n",
       "      <td>0</td>\n",
       "      <td>STON/O2. 3101282</td>\n",
       "      <td>7.9250</td>\n",
       "      <td>NaN</td>\n",
       "      <td>S</td>\n",
       "    </tr>\n",
       "    <tr>\n",
       "      <th>3</th>\n",
       "      <td>4</td>\n",
       "      <td>1</td>\n",
       "      <td>1</td>\n",
       "      <td>Futrelle, Mrs. Jacques Heath (Lily May Peel)</td>\n",
       "      <td>female</td>\n",
       "      <td>35.0</td>\n",
       "      <td>1</td>\n",
       "      <td>0</td>\n",
       "      <td>113803</td>\n",
       "      <td>53.1000</td>\n",
       "      <td>C123</td>\n",
       "      <td>S</td>\n",
       "    </tr>\n",
       "    <tr>\n",
       "      <th>4</th>\n",
       "      <td>5</td>\n",
       "      <td>0</td>\n",
       "      <td>3</td>\n",
       "      <td>Allen, Mr. William Henry</td>\n",
       "      <td>male</td>\n",
       "      <td>35.0</td>\n",
       "      <td>0</td>\n",
       "      <td>0</td>\n",
       "      <td>373450</td>\n",
       "      <td>8.0500</td>\n",
       "      <td>NaN</td>\n",
       "      <td>S</td>\n",
       "    </tr>\n",
       "  </tbody>\n",
       "</table>\n",
       "</div>"
      ],
      "text/plain": [
       "   PassengerId  Survived  Pclass  \\\n",
       "0            1         0       3   \n",
       "1            2         1       1   \n",
       "2            3         1       3   \n",
       "3            4         1       1   \n",
       "4            5         0       3   \n",
       "\n",
       "                                                Name     Sex   Age  SibSp  \\\n",
       "0                            Braund, Mr. Owen Harris    male  22.0      1   \n",
       "1  Cumings, Mrs. John Bradley (Florence Briggs Th...  female  38.0      1   \n",
       "2                             Heikkinen, Miss. Laina  female  26.0      0   \n",
       "3       Futrelle, Mrs. Jacques Heath (Lily May Peel)  female  35.0      1   \n",
       "4                           Allen, Mr. William Henry    male  35.0      0   \n",
       "\n",
       "   Parch            Ticket     Fare Cabin Embarked  \n",
       "0      0         A/5 21171   7.2500   NaN        S  \n",
       "1      0          PC 17599  71.2833   C85        C  \n",
       "2      0  STON/O2. 3101282   7.9250   NaN        S  \n",
       "3      0            113803  53.1000  C123        S  \n",
       "4      0            373450   8.0500   NaN        S  "
      ]
     },
     "execution_count": 9,
     "metadata": {},
     "output_type": "execute_result"
    }
   ],
   "source": [
    "(data.head())"
   ]
  },
  {
   "cell_type": "code",
   "execution_count": 4,
   "metadata": {},
   "outputs": [
    {
     "name": "stdout",
     "output_type": "stream",
     "text": [
      "   PassengerId  Survived  Pclass  \\\n",
      "0            1         0       3   \n",
      "1            2         1       1   \n",
      "2            3         1       3   \n",
      "3            4         1       1   \n",
      "4            5         0       3   \n",
      "\n",
      "                                                Name     Sex   Age  SibSp  \\\n",
      "0                            Braund, Mr. Owen Harris    male  22.0      1   \n",
      "1  Cumings, Mrs. John Bradley (Florence Briggs Th...  female  38.0      1   \n",
      "2                             Heikkinen, Miss. Laina  female  26.0      0   \n",
      "3       Futrelle, Mrs. Jacques Heath (Lily May Peel)  female  35.0      1   \n",
      "4                           Allen, Mr. William Henry    male  35.0      0   \n",
      "\n",
      "   Parch            Ticket     Fare Cabin Embarked  \n",
      "0      0         A/5 21171   7.2500   NaN        S  \n",
      "1      0          PC 17599  71.2833   C85        C  \n",
      "2      0  STON/O2. 3101282   7.9250   NaN        S  \n",
      "3      0            113803  53.1000  C123        S  \n",
      "4      0            373450   8.0500   NaN        S  \n"
     ]
    }
   ],
   "source": [
    "data = pd.read_csv('train.csv')\n",
    "print(data.head())"
   ]
  },
  {
   "cell_type": "code",
   "execution_count": 5,
   "metadata": {},
   "outputs": [
    {
     "data": {
      "text/html": [
       "<div>\n",
       "<style scoped>\n",
       "    .dataframe tbody tr th:only-of-type {\n",
       "        vertical-align: middle;\n",
       "    }\n",
       "\n",
       "    .dataframe tbody tr th {\n",
       "        vertical-align: top;\n",
       "    }\n",
       "\n",
       "    .dataframe thead th {\n",
       "        text-align: right;\n",
       "    }\n",
       "</style>\n",
       "<table border=\"1\" class=\"dataframe\">\n",
       "  <thead>\n",
       "    <tr style=\"text-align: right;\">\n",
       "      <th></th>\n",
       "      <th>PassengerId</th>\n",
       "      <th>Survived</th>\n",
       "      <th>Pclass</th>\n",
       "      <th>Name</th>\n",
       "      <th>Sex</th>\n",
       "      <th>Age</th>\n",
       "      <th>SibSp</th>\n",
       "      <th>Parch</th>\n",
       "      <th>Ticket</th>\n",
       "      <th>Fare</th>\n",
       "      <th>Cabin</th>\n",
       "      <th>Embarked</th>\n",
       "    </tr>\n",
       "  </thead>\n",
       "  <tbody>\n",
       "    <tr>\n",
       "      <th>0</th>\n",
       "      <td>1</td>\n",
       "      <td>0</td>\n",
       "      <td>3</td>\n",
       "      <td>Braund, Mr. Owen Harris</td>\n",
       "      <td>male</td>\n",
       "      <td>22.0</td>\n",
       "      <td>1</td>\n",
       "      <td>0</td>\n",
       "      <td>A/5 21171</td>\n",
       "      <td>7.2500</td>\n",
       "      <td>NaN</td>\n",
       "      <td>S</td>\n",
       "    </tr>\n",
       "    <tr>\n",
       "      <th>1</th>\n",
       "      <td>2</td>\n",
       "      <td>1</td>\n",
       "      <td>1</td>\n",
       "      <td>Cumings, Mrs. John Bradley (Florence Briggs Th...</td>\n",
       "      <td>female</td>\n",
       "      <td>38.0</td>\n",
       "      <td>1</td>\n",
       "      <td>0</td>\n",
       "      <td>PC 17599</td>\n",
       "      <td>71.2833</td>\n",
       "      <td>C85</td>\n",
       "      <td>C</td>\n",
       "    </tr>\n",
       "    <tr>\n",
       "      <th>2</th>\n",
       "      <td>3</td>\n",
       "      <td>1</td>\n",
       "      <td>3</td>\n",
       "      <td>Heikkinen, Miss. Laina</td>\n",
       "      <td>female</td>\n",
       "      <td>26.0</td>\n",
       "      <td>0</td>\n",
       "      <td>0</td>\n",
       "      <td>STON/O2. 3101282</td>\n",
       "      <td>7.9250</td>\n",
       "      <td>NaN</td>\n",
       "      <td>S</td>\n",
       "    </tr>\n",
       "    <tr>\n",
       "      <th>3</th>\n",
       "      <td>4</td>\n",
       "      <td>1</td>\n",
       "      <td>1</td>\n",
       "      <td>Futrelle, Mrs. Jacques Heath (Lily May Peel)</td>\n",
       "      <td>female</td>\n",
       "      <td>35.0</td>\n",
       "      <td>1</td>\n",
       "      <td>0</td>\n",
       "      <td>113803</td>\n",
       "      <td>53.1000</td>\n",
       "      <td>C123</td>\n",
       "      <td>S</td>\n",
       "    </tr>\n",
       "    <tr>\n",
       "      <th>4</th>\n",
       "      <td>5</td>\n",
       "      <td>0</td>\n",
       "      <td>3</td>\n",
       "      <td>Allen, Mr. William Henry</td>\n",
       "      <td>male</td>\n",
       "      <td>35.0</td>\n",
       "      <td>0</td>\n",
       "      <td>0</td>\n",
       "      <td>373450</td>\n",
       "      <td>8.0500</td>\n",
       "      <td>NaN</td>\n",
       "      <td>S</td>\n",
       "    </tr>\n",
       "  </tbody>\n",
       "</table>\n",
       "</div>"
      ],
      "text/plain": [
       "   PassengerId  Survived  Pclass  \\\n",
       "0            1         0       3   \n",
       "1            2         1       1   \n",
       "2            3         1       3   \n",
       "3            4         1       1   \n",
       "4            5         0       3   \n",
       "\n",
       "                                                Name     Sex   Age  SibSp  \\\n",
       "0                            Braund, Mr. Owen Harris    male  22.0      1   \n",
       "1  Cumings, Mrs. John Bradley (Florence Briggs Th...  female  38.0      1   \n",
       "2                             Heikkinen, Miss. Laina  female  26.0      0   \n",
       "3       Futrelle, Mrs. Jacques Heath (Lily May Peel)  female  35.0      1   \n",
       "4                           Allen, Mr. William Henry    male  35.0      0   \n",
       "\n",
       "   Parch            Ticket     Fare Cabin Embarked  \n",
       "0      0         A/5 21171   7.2500   NaN        S  \n",
       "1      0          PC 17599  71.2833   C85        C  \n",
       "2      0  STON/O2. 3101282   7.9250   NaN        S  \n",
       "3      0            113803  53.1000  C123        S  \n",
       "4      0            373450   8.0500   NaN        S  "
      ]
     },
     "execution_count": 5,
     "metadata": {},
     "output_type": "execute_result"
    }
   ],
   "source": [
    "data = pd.read_csv('train.csv')\n",
    "(data.head())"
   ]
  },
  {
   "cell_type": "code",
   "execution_count": 31,
   "metadata": {},
   "outputs": [
    {
     "data": {
      "text/html": [
       "<div>\n",
       "<style scoped>\n",
       "    .dataframe tbody tr th:only-of-type {\n",
       "        vertical-align: middle;\n",
       "    }\n",
       "\n",
       "    .dataframe tbody tr th {\n",
       "        vertical-align: top;\n",
       "    }\n",
       "\n",
       "    .dataframe thead th {\n",
       "        text-align: right;\n",
       "    }\n",
       "</style>\n",
       "<table border=\"1\" class=\"dataframe\">\n",
       "  <thead>\n",
       "    <tr style=\"text-align: right;\">\n",
       "      <th></th>\n",
       "      <th>PassengerId</th>\n",
       "      <th>Survived</th>\n",
       "      <th>Pclass</th>\n",
       "      <th>Name</th>\n",
       "      <th>Sex</th>\n",
       "      <th>Age</th>\n",
       "      <th>SibSp</th>\n",
       "      <th>Parch</th>\n",
       "      <th>Ticket</th>\n",
       "      <th>Fare</th>\n",
       "      <th>Cabin</th>\n",
       "      <th>Embarked</th>\n",
       "    </tr>\n",
       "  </thead>\n",
       "  <tbody>\n",
       "    <tr>\n",
       "      <th>0</th>\n",
       "      <td>1</td>\n",
       "      <td>0</td>\n",
       "      <td>3</td>\n",
       "      <td>Braund, Mr. Owen Harris</td>\n",
       "      <td>male</td>\n",
       "      <td>22.0</td>\n",
       "      <td>1</td>\n",
       "      <td>0</td>\n",
       "      <td>A/5 21171</td>\n",
       "      <td>7.2500</td>\n",
       "      <td>NaN</td>\n",
       "      <td>S</td>\n",
       "    </tr>\n",
       "    <tr>\n",
       "      <th>1</th>\n",
       "      <td>2</td>\n",
       "      <td>1</td>\n",
       "      <td>1</td>\n",
       "      <td>Cumings, Mrs. John Bradley (Florence Briggs Th...</td>\n",
       "      <td>female</td>\n",
       "      <td>38.0</td>\n",
       "      <td>1</td>\n",
       "      <td>0</td>\n",
       "      <td>PC 17599</td>\n",
       "      <td>71.2833</td>\n",
       "      <td>C85</td>\n",
       "      <td>C</td>\n",
       "    </tr>\n",
       "    <tr>\n",
       "      <th>2</th>\n",
       "      <td>3</td>\n",
       "      <td>1</td>\n",
       "      <td>3</td>\n",
       "      <td>Heikkinen, Miss. Laina</td>\n",
       "      <td>female</td>\n",
       "      <td>26.0</td>\n",
       "      <td>0</td>\n",
       "      <td>0</td>\n",
       "      <td>STON/O2. 3101282</td>\n",
       "      <td>7.9250</td>\n",
       "      <td>NaN</td>\n",
       "      <td>S</td>\n",
       "    </tr>\n",
       "    <tr>\n",
       "      <th>3</th>\n",
       "      <td>4</td>\n",
       "      <td>1</td>\n",
       "      <td>1</td>\n",
       "      <td>Futrelle, Mrs. Jacques Heath (Lily May Peel)</td>\n",
       "      <td>female</td>\n",
       "      <td>35.0</td>\n",
       "      <td>1</td>\n",
       "      <td>0</td>\n",
       "      <td>113803</td>\n",
       "      <td>53.1000</td>\n",
       "      <td>C123</td>\n",
       "      <td>S</td>\n",
       "    </tr>\n",
       "    <tr>\n",
       "      <th>4</th>\n",
       "      <td>5</td>\n",
       "      <td>0</td>\n",
       "      <td>3</td>\n",
       "      <td>Allen, Mr. William Henry</td>\n",
       "      <td>male</td>\n",
       "      <td>35.0</td>\n",
       "      <td>0</td>\n",
       "      <td>0</td>\n",
       "      <td>373450</td>\n",
       "      <td>8.0500</td>\n",
       "      <td>NaN</td>\n",
       "      <td>S</td>\n",
       "    </tr>\n",
       "  </tbody>\n",
       "</table>\n",
       "</div>"
      ],
      "text/plain": [
       "   PassengerId  Survived  Pclass  \\\n",
       "0            1         0       3   \n",
       "1            2         1       1   \n",
       "2            3         1       3   \n",
       "3            4         1       1   \n",
       "4            5         0       3   \n",
       "\n",
       "                                                Name     Sex   Age  SibSp  \\\n",
       "0                            Braund, Mr. Owen Harris    male  22.0      1   \n",
       "1  Cumings, Mrs. John Bradley (Florence Briggs Th...  female  38.0      1   \n",
       "2                             Heikkinen, Miss. Laina  female  26.0      0   \n",
       "3       Futrelle, Mrs. Jacques Heath (Lily May Peel)  female  35.0      1   \n",
       "4                           Allen, Mr. William Henry    male  35.0      0   \n",
       "\n",
       "   Parch            Ticket     Fare Cabin Embarked  \n",
       "0      0         A/5 21171   7.2500   NaN        S  \n",
       "1      0          PC 17599  71.2833   C85        C  \n",
       "2      0  STON/O2. 3101282   7.9250   NaN        S  \n",
       "3      0            113803  53.1000  C123        S  \n",
       "4      0            373450   8.0500   NaN        S  "
      ]
     },
     "execution_count": 31,
     "metadata": {},
     "output_type": "execute_result"
    }
   ],
   "source": [
    "import pandas as pd\n",
    "\n",
    "# Load the dataset\n",
    "df = pd.read_csv('train.csv')\n",
    "\n",
    "# Display the first few rows\n",
    "(df.head())\n"
   ]
  },
  {
   "cell_type": "code",
   "execution_count": 32,
   "metadata": {},
   "outputs": [
    {
     "name": "stdout",
     "output_type": "stream",
     "text": [
      "PassengerId      0\n",
      "Survived         0\n",
      "Pclass           0\n",
      "Name             0\n",
      "Sex              0\n",
      "Age            177\n",
      "SibSp            0\n",
      "Parch            0\n",
      "Ticket           0\n",
      "Fare             0\n",
      "Cabin          687\n",
      "Embarked         2\n",
      "dtype: int64\n"
     ]
    }
   ],
   "source": [
    "import pandas as pd\n",
    "\n",
    "# Load the dataset\n",
    "df = pd.read_csv('train.csv')\n",
    "\n",
    "# Count missing values per column\n",
    "missing_values = df.isna().sum()\n",
    "\n",
    "print(missing_values)\n"
   ]
  },
  {
   "cell_type": "code",
   "execution_count": 35,
   "metadata": {},
   "outputs": [
    {
     "data": {
      "text/plain": [
       "PassengerId      0\n",
       "Survived         0\n",
       "Pclass           0\n",
       "Name             0\n",
       "Sex              0\n",
       "Age            177\n",
       "SibSp            0\n",
       "Parch            0\n",
       "Ticket           0\n",
       "Fare             0\n",
       "Cabin          687\n",
       "Embarked         2\n",
       "dtype: int64"
      ]
     },
     "execution_count": 35,
     "metadata": {},
     "output_type": "execute_result"
    }
   ],
   "source": [
    "import pandas as pd\n",
    "\n",
    "# Load the dataset\n",
    "df = pd.read_csv('train.csv')\n",
    "\n",
    "# Count missing values per column\n",
    "missing_values = df.isna().sum()\n",
    "\n",
    "(missing_values)\n"
   ]
  },
  {
   "cell_type": "code",
   "execution_count": 36,
   "metadata": {},
   "outputs": [
    {
     "name": "stderr",
     "output_type": "stream",
     "text": [
      "C:\\Users\\DELL\\AppData\\Local\\Temp\\ipykernel_16080\\765023585.py:2: FutureWarning: A value is trying to be set on a copy of a DataFrame or Series through chained assignment using an inplace method.\n",
      "The behavior will change in pandas 3.0. This inplace method will never work because the intermediate object on which we are setting values always behaves as a copy.\n",
      "\n",
      "For example, when doing 'df[col].method(value, inplace=True)', try using 'df.method({col: value}, inplace=True)' or df[col] = df[col].method(value) instead, to perform the operation inplace on the original object.\n",
      "\n",
      "\n",
      "  df['Age'].fillna(df['Age'].median(), inplace=True)\n"
     ]
    }
   ],
   "source": [
    "# Fill missing values in 'Age' with the median\n",
    "df['Age'].fillna(df['Age'].median(), inplace=True)\n"
   ]
  },
  {
   "cell_type": "code",
   "execution_count": 37,
   "metadata": {},
   "outputs": [],
   "source": [
    "# Example of binning ages\n",
    "df['Age_bin'] = pd.cut(df['Age'], bins=[0, 12, 18, 60, 100], labels=['Child', 'Teenager', 'Adult', 'Senior'])\n"
   ]
  },
  {
   "cell_type": "code",
   "execution_count": null,
   "metadata": {},
   "outputs": [],
   "source": []
  },
  {
   "cell_type": "code",
   "execution_count": 38,
   "metadata": {},
   "outputs": [
    {
     "name": "stderr",
     "output_type": "stream",
     "text": [
      "C:\\Users\\DELL\\AppData\\Local\\Temp\\ipykernel_16080\\2768255252.py:2: FutureWarning: A value is trying to be set on a copy of a DataFrame or Series through chained assignment using an inplace method.\n",
      "The behavior will change in pandas 3.0. This inplace method will never work because the intermediate object on which we are setting values always behaves as a copy.\n",
      "\n",
      "For example, when doing 'df[col].method(value, inplace=True)', try using 'df.method({col: value}, inplace=True)' or df[col] = df[col].method(value) instead, to perform the operation inplace on the original object.\n",
      "\n",
      "\n",
      "  df['Age'].fillna(-1, inplace=True)\n"
     ]
    }
   ],
   "source": [
    "df['Age_missing'] = df['Age'].isnull()\n",
    "df['Age'].fillna(-1, inplace=True)\n"
   ]
  },
  {
   "cell_type": "code",
   "execution_count": 39,
   "metadata": {},
   "outputs": [],
   "source": [
    "df.dropna(subset=['Age'], inplace=True)\n"
   ]
  },
  {
   "cell_type": "code",
   "execution_count": 40,
   "metadata": {},
   "outputs": [
    {
     "name": "stderr",
     "output_type": "stream",
     "text": [
      "C:\\Users\\DELL\\AppData\\Local\\Temp\\ipykernel_16080\\54787928.py:2: FutureWarning: A value is trying to be set on a copy of a DataFrame or Series through chained assignment using an inplace method.\n",
      "The behavior will change in pandas 3.0. This inplace method will never work because the intermediate object on which we are setting values always behaves as a copy.\n",
      "\n",
      "For example, when doing 'df[col].method(value, inplace=True)', try using 'df.method({col: value}, inplace=True)' or df[col] = df[col].method(value) instead, to perform the operation inplace on the original object.\n",
      "\n",
      "\n",
      "  df['Embarked'].fillna(df['Embarked'].mode()[0], inplace=True)\n"
     ]
    }
   ],
   "source": [
    "# Fill missing values in 'Embarked' with the mode\n",
    "df['Embarked'].fillna(df['Embarked'].mode()[0], inplace=True)\n"
   ]
  },
  {
   "cell_type": "code",
   "execution_count": 41,
   "metadata": {},
   "outputs": [],
   "source": [
    "df.dropna(subset=['Embarked'], inplace=True)\n"
   ]
  },
  {
   "cell_type": "code",
   "execution_count": 43,
   "metadata": {},
   "outputs": [
    {
     "name": "stdout",
     "output_type": "stream",
     "text": [
      "Empty DataFrame\n",
      "Columns: [PassengerId, Survived, Pclass, Name, Sex, Age, SibSp, Parch, Ticket, Fare, Cabin, Embarked, Age_bin, Age_missing]\n",
      "Index: []\n"
     ]
    }
   ],
   "source": [
    "duplicate_rows = df.duplicated()\n",
    "print(df[duplicate_rows])\n"
   ]
  },
  {
   "cell_type": "code",
   "execution_count": 44,
   "metadata": {},
   "outputs": [
    {
     "name": "stdout",
     "output_type": "stream",
     "text": [
      "Number of duplicate rows: 0\n"
     ]
    }
   ],
   "source": [
    "\n",
    "num_duplicates = df.duplicated().sum()\n",
    "print(f'Number of duplicate rows: {num_duplicates}')\n"
   ]
  },
  {
   "cell_type": "code",
   "execution_count": 45,
   "metadata": {},
   "outputs": [],
   "source": [
    "# Remove duplicate rows\n",
    "df_cleaned = df.drop_duplicates()\n"
   ]
  },
  {
   "cell_type": "code",
   "execution_count": 46,
   "metadata": {},
   "outputs": [],
   "source": [
    "# Check for duplicate rows based on specific columns, e.g., 'Name' and 'Ticket'\n",
    "duplicate_rows = df.duplicated(subset=['Name', 'Ticket'])\n",
    "\n",
    "# Remove duplicates based on the same columns\n",
    "df_cleaned = df.drop_duplicates(subset=['Name', 'Ticket'])\n"
   ]
  },
  {
   "cell_type": "code",
   "execution_count": 49,
   "metadata": {},
   "outputs": [
    {
     "data": {
      "text/html": [
       "<div>\n",
       "<style scoped>\n",
       "    .dataframe tbody tr th:only-of-type {\n",
       "        vertical-align: middle;\n",
       "    }\n",
       "\n",
       "    .dataframe tbody tr th {\n",
       "        vertical-align: top;\n",
       "    }\n",
       "\n",
       "    .dataframe thead th {\n",
       "        text-align: right;\n",
       "    }\n",
       "</style>\n",
       "<table border=\"1\" class=\"dataframe\">\n",
       "  <thead>\n",
       "    <tr style=\"text-align: right;\">\n",
       "      <th></th>\n",
       "      <th>PassengerId</th>\n",
       "      <th>Survived</th>\n",
       "      <th>Pclass</th>\n",
       "      <th>Name</th>\n",
       "      <th>Sex</th>\n",
       "      <th>Age</th>\n",
       "      <th>SibSp</th>\n",
       "      <th>Parch</th>\n",
       "      <th>Ticket</th>\n",
       "      <th>Fare</th>\n",
       "      <th>Cabin</th>\n",
       "      <th>Embarked</th>\n",
       "    </tr>\n",
       "  </thead>\n",
       "  <tbody>\n",
       "    <tr>\n",
       "      <th>0</th>\n",
       "      <td>1</td>\n",
       "      <td>0</td>\n",
       "      <td>3</td>\n",
       "      <td>Braund, Mr. Owen Harris</td>\n",
       "      <td>male</td>\n",
       "      <td>22.0</td>\n",
       "      <td>1</td>\n",
       "      <td>0</td>\n",
       "      <td>A/5 21171</td>\n",
       "      <td>7.2500</td>\n",
       "      <td>NaN</td>\n",
       "      <td>S</td>\n",
       "    </tr>\n",
       "    <tr>\n",
       "      <th>1</th>\n",
       "      <td>2</td>\n",
       "      <td>1</td>\n",
       "      <td>1</td>\n",
       "      <td>Cumings, Mrs. John Bradley (Florence Briggs Th...</td>\n",
       "      <td>female</td>\n",
       "      <td>38.0</td>\n",
       "      <td>1</td>\n",
       "      <td>0</td>\n",
       "      <td>PC 17599</td>\n",
       "      <td>71.2833</td>\n",
       "      <td>C85</td>\n",
       "      <td>C</td>\n",
       "    </tr>\n",
       "    <tr>\n",
       "      <th>2</th>\n",
       "      <td>3</td>\n",
       "      <td>1</td>\n",
       "      <td>3</td>\n",
       "      <td>Heikkinen, Miss. Laina</td>\n",
       "      <td>female</td>\n",
       "      <td>26.0</td>\n",
       "      <td>0</td>\n",
       "      <td>0</td>\n",
       "      <td>STON/O2. 3101282</td>\n",
       "      <td>7.9250</td>\n",
       "      <td>NaN</td>\n",
       "      <td>S</td>\n",
       "    </tr>\n",
       "    <tr>\n",
       "      <th>3</th>\n",
       "      <td>4</td>\n",
       "      <td>1</td>\n",
       "      <td>1</td>\n",
       "      <td>Futrelle, Mrs. Jacques Heath (Lily May Peel)</td>\n",
       "      <td>female</td>\n",
       "      <td>35.0</td>\n",
       "      <td>1</td>\n",
       "      <td>0</td>\n",
       "      <td>113803</td>\n",
       "      <td>53.1000</td>\n",
       "      <td>C123</td>\n",
       "      <td>S</td>\n",
       "    </tr>\n",
       "    <tr>\n",
       "      <th>4</th>\n",
       "      <td>5</td>\n",
       "      <td>0</td>\n",
       "      <td>3</td>\n",
       "      <td>Allen, Mr. William Henry</td>\n",
       "      <td>male</td>\n",
       "      <td>35.0</td>\n",
       "      <td>0</td>\n",
       "      <td>0</td>\n",
       "      <td>373450</td>\n",
       "      <td>8.0500</td>\n",
       "      <td>NaN</td>\n",
       "      <td>S</td>\n",
       "    </tr>\n",
       "  </tbody>\n",
       "</table>\n",
       "</div>"
      ],
      "text/plain": [
       "   PassengerId  Survived  Pclass  \\\n",
       "0            1         0       3   \n",
       "1            2         1       1   \n",
       "2            3         1       3   \n",
       "3            4         1       1   \n",
       "4            5         0       3   \n",
       "\n",
       "                                                Name     Sex   Age  SibSp  \\\n",
       "0                            Braund, Mr. Owen Harris    male  22.0      1   \n",
       "1  Cumings, Mrs. John Bradley (Florence Briggs Th...  female  38.0      1   \n",
       "2                             Heikkinen, Miss. Laina  female  26.0      0   \n",
       "3       Futrelle, Mrs. Jacques Heath (Lily May Peel)  female  35.0      1   \n",
       "4                           Allen, Mr. William Henry    male  35.0      0   \n",
       "\n",
       "   Parch            Ticket     Fare Cabin Embarked  \n",
       "0      0         A/5 21171   7.2500   NaN        S  \n",
       "1      0          PC 17599  71.2833   C85        C  \n",
       "2      0  STON/O2. 3101282   7.9250   NaN        S  \n",
       "3      0            113803  53.1000  C123        S  \n",
       "4      0            373450   8.0500   NaN        S  "
      ]
     },
     "execution_count": 49,
     "metadata": {},
     "output_type": "execute_result"
    }
   ],
   "source": [
    "\n",
    "data.head()\n"
   ]
  },
  {
   "cell_type": "code",
   "execution_count": 55,
   "metadata": {},
   "outputs": [
    {
     "name": "stdout",
     "output_type": "stream",
     "text": [
      "Number of duplicate rows after cleaning: 0\n"
     ]
    }
   ],
   "source": [
    "import pandas as pd\n",
    "\n",
    "df = pd.read_csv(('train.csv'))\n",
    "\n",
    "(f'Number of duplicate rows: {df.duplicated().sum()}')\n",
    "df.drop_duplicates(inplace=True)\n",
    "\n",
    "print(f'Number of duplicate rows after cleaning: {df.duplicated().sum()}')\n"
   ]
  },
  {
   "cell_type": "code",
   "execution_count": 54,
   "metadata": {},
   "outputs": [],
   "source": [
    "df = pd.read_csv(('train.csv'))"
   ]
  },
  {
   "cell_type": "code",
   "execution_count": 56,
   "metadata": {},
   "outputs": [
    {
     "name": "stdout",
     "output_type": "stream",
     "text": [
      "PassengerId      int64\n",
      "Survived         int64\n",
      "Pclass           int64\n",
      "Name            object\n",
      "Sex             object\n",
      "Age            float64\n",
      "SibSp            int64\n",
      "Parch            int64\n",
      "Ticket          object\n",
      "Fare           float64\n",
      "Cabin           object\n",
      "Embarked        object\n",
      "dtype: object\n",
      "<class 'pandas.core.frame.DataFrame'>\n",
      "RangeIndex: 891 entries, 0 to 890\n",
      "Data columns (total 12 columns):\n",
      " #   Column       Non-Null Count  Dtype  \n",
      "---  ------       --------------  -----  \n",
      " 0   PassengerId  891 non-null    int64  \n",
      " 1   Survived     891 non-null    int64  \n",
      " 2   Pclass       891 non-null    int64  \n",
      " 3   Name         891 non-null    object \n",
      " 4   Sex          891 non-null    object \n",
      " 5   Age          714 non-null    float64\n",
      " 6   SibSp        891 non-null    int64  \n",
      " 7   Parch        891 non-null    int64  \n",
      " 8   Ticket       891 non-null    object \n",
      " 9   Fare         891 non-null    float64\n",
      " 10  Cabin        204 non-null    object \n",
      " 11  Embarked     889 non-null    object \n",
      "dtypes: float64(2), int64(5), object(5)\n",
      "memory usage: 83.7+ KB\n"
     ]
    }
   ],
   "source": [
    "# Check the data types of each column\n",
    "print(df.dtypes)\n",
    "\n",
    "# Alternatively, use the info() method for a more detailed overview\n",
    "df.info()\n"
   ]
  },
  {
   "cell_type": "code",
   "execution_count": 58,
   "metadata": {},
   "outputs": [],
   "source": [
    "# Convert 'PassengerId' and 'Pclass' to categorical\n",
    "df['PassengerId'] = df['PassengerId'].astype('category')\n",
    "df['Pclass'] = df['Pclass'].astype('category')\n"
   ]
  },
  {
   "cell_type": "code",
   "execution_count": 59,
   "metadata": {},
   "outputs": [],
   "source": [
    "# Convert 'Sex' and 'Embarked' to categorical\n",
    "df['Sex'] = df['Sex'].astype('category')\n",
    "df['Embarked'] = df['Embarked'].astype('category')\n"
   ]
  },
  {
   "cell_type": "code",
   "execution_count": 60,
   "metadata": {},
   "outputs": [],
   "source": [
    "# Extract the first letter of 'Cabin' and convert to category\n",
    "df['Deck'] = df['Cabin'].str[0]  # Extract first letter\n",
    "df['Deck'] = df['Deck'].astype('category')\n"
   ]
  },
  {
   "cell_type": "code",
   "execution_count": 61,
   "metadata": {},
   "outputs": [
    {
     "name": "stdout",
     "output_type": "stream",
     "text": [
      "PassengerId      int64\n",
      "Survived         int64\n",
      "Pclass           int64\n",
      "Name            object\n",
      "Sex             object\n",
      "Age            float64\n",
      "SibSp            int64\n",
      "Parch            int64\n",
      "Ticket          object\n",
      "Fare           float64\n",
      "Cabin           object\n",
      "Embarked        object\n",
      "dtype: object\n",
      "PassengerId    category\n",
      "Survived          int64\n",
      "Pclass         category\n",
      "Name             object\n",
      "Sex            category\n",
      "Age             float64\n",
      "SibSp             int64\n",
      "Parch             int64\n",
      "Ticket           object\n",
      "Fare            float64\n",
      "Cabin            object\n",
      "Embarked       category\n",
      "Deck           category\n",
      "dtype: object\n"
     ]
    }
   ],
   "source": [
    "import pandas as pd\n",
    "\n",
    "# Load Titanic dataset\n",
    "df = pd.read_csv('train.csv')\n",
    "\n",
    "# Check the data types of all columns\n",
    "print(df.dtypes)\n",
    "\n",
    "# Convert 'PassengerId', 'Pclass', 'Sex', and 'Embarked' to categorical types\n",
    "df['PassengerId'] = df['PassengerId'].astype('category')\n",
    "df['Pclass'] = df['Pclass'].astype('category')\n",
    "df['Sex'] = df['Sex'].astype('category')\n",
    "df['Embarked'] = df['Embarked'].astype('category')\n",
    "\n",
    "# Optionally, handle 'Cabin' by extracting the deck and converting to categorical\n",
    "df['Deck'] = df['Cabin'].str[0]\n",
    "df['Deck'] = df['Deck'].astype('category')\n",
    "\n",
    "# Verify data types after conversion\n",
    "print(df.dtypes)\n"
   ]
  },
  {
   "cell_type": "code",
   "execution_count": 62,
   "metadata": {},
   "outputs": [
    {
     "name": "stdout",
     "output_type": "stream",
     "text": [
      "Mean Age: 29.69911764705882\n"
     ]
    }
   ],
   "source": [
    "# Mean of the 'Age' column\n",
    "mean_age = df['Age'].mean()\n",
    "print(f\"Mean Age: {mean_age}\")\n"
   ]
  },
  {
   "cell_type": "code",
   "execution_count": 63,
   "metadata": {},
   "outputs": [
    {
     "name": "stdout",
     "output_type": "stream",
     "text": [
      "Median Fare: 14.4542\n"
     ]
    }
   ],
   "source": [
    "# Median of the 'Fare' column\n",
    "median_fare = df['Fare'].median()\n",
    "print(f\"Median Fare: {median_fare}\")\n"
   ]
  },
  {
   "cell_type": "code",
   "execution_count": 64,
   "metadata": {},
   "outputs": [
    {
     "name": "stdout",
     "output_type": "stream",
     "text": [
      "Min Age: 0.42, Max Age: 80.0\n"
     ]
    }
   ],
   "source": [
    "# Minimum and maximum values for 'Age'\n",
    "min_age = df['Age'].min()\n",
    "max_age = df['Age'].max()\n",
    "print(f\"Min Age: {min_age}, Max Age: {max_age}\")\n"
   ]
  },
  {
   "cell_type": "code",
   "execution_count": 65,
   "metadata": {},
   "outputs": [
    {
     "name": "stdout",
     "output_type": "stream",
     "text": [
      "Standard Deviation of Fare: 49.6934285971809\n",
      "Variance of Fare: 2469.436845743116\n"
     ]
    }
   ],
   "source": [
    "# Standard deviation and variance for 'Fare'\n",
    "std_fare = df['Fare'].std()\n",
    "var_fare = df['Fare'].var()\n",
    "print(f\"Standard Deviation of Fare: {std_fare}\")\n",
    "print(f\"Variance of Fare: {var_fare}\")\n"
   ]
  },
  {
   "cell_type": "code",
   "execution_count": 66,
   "metadata": {},
   "outputs": [
    {
     "name": "stdout",
     "output_type": "stream",
     "text": [
      "25th percentile (Q1) Age: 20.125\n",
      "50th percentile (Median) Age: 28.0\n",
      "75th percentile (Q3) Age: 38.0\n"
     ]
    }
   ],
   "source": [
    "# Calculate the 25th, 50th (median), and 75th percentiles for 'Age'\n",
    "q1_age = df['Age'].quantile(0.25)\n",
    "median_age = df['Age'].quantile(0.50)  # Same as median()\n",
    "q3_age = df['Age'].quantile(0.75)\n",
    "\n",
    "print(f\"25th percentile (Q1) Age: {q1_age}\")\n",
    "print(f\"50th percentile (Median) Age: {median_age}\")\n",
    "print(f\"75th percentile (Q3) Age: {q3_age}\")\n"
   ]
  },
  {
   "cell_type": "code",
   "execution_count": 67,
   "metadata": {},
   "outputs": [
    {
     "name": "stdout",
     "output_type": "stream",
     "text": [
      "Total Fare: 28693.9493\n"
     ]
    }
   ],
   "source": [
    "# Sum of all fares\n",
    "total_fare = df['Fare'].sum()\n",
    "print(f\"Total Fare: {total_fare}\")\n"
   ]
  },
  {
   "cell_type": "code",
   "execution_count": 68,
   "metadata": {},
   "outputs": [
    {
     "name": "stdout",
     "output_type": "stream",
     "text": [
      "Skewness of Fare: 4.787316519674893\n",
      "Kurtosis of Fare: 33.39814088089868\n"
     ]
    }
   ],
   "source": [
    "# Skewness and kurtosis for 'Fare'\n",
    "skew_fare = df['Fare'].skew()\n",
    "kurt_fare = df['Fare'].kurt()\n",
    "print(f\"Skewness of Fare: {skew_fare}\")\n",
    "print(f\"Kurtosis of Fare: {kurt_fare}\")\n"
   ]
  },
  {
   "cell_type": "code",
   "execution_count": 70,
   "metadata": {},
   "outputs": [
    {
     "name": "stdout",
     "output_type": "stream",
     "text": [
      "       PassengerId    Survived      Pclass         Age       SibSp  \\\n",
      "count   891.000000  891.000000  891.000000  714.000000  891.000000   \n",
      "mean    446.000000    0.383838    2.308642   29.699118    0.523008   \n",
      "std     257.353842    0.486592    0.836071   14.526497    1.102743   \n",
      "min       1.000000    0.000000    1.000000    0.420000    0.000000   \n",
      "25%     223.500000    0.000000    2.000000   20.125000    0.000000   \n",
      "50%     446.000000    0.000000    3.000000   28.000000    0.000000   \n",
      "75%     668.500000    1.000000    3.000000   38.000000    1.000000   \n",
      "max     891.000000    1.000000    3.000000   80.000000    8.000000   \n",
      "\n",
      "            Parch        Fare  \n",
      "count  891.000000  891.000000  \n",
      "mean     0.381594   32.204208  \n",
      "std      0.806057   49.693429  \n",
      "min      0.000000    0.000000  \n",
      "25%      0.000000    7.910400  \n",
      "50%      0.000000   14.454200  \n",
      "75%      0.000000   31.000000  \n",
      "max      6.000000  512.329200  \n",
      "Mean Age: 29.69911764705882, Median Fare: 14.4542, Min Age: 0.42, Max Age: 80.0\n"
     ]
    },
    {
     "data": {
      "text/plain": [
       "'25th percentile (Q1) Age: 20.125, 50th percentile (Median) Age: 28.0, 75th percentile (Q3) Age: 38.0'"
      ]
     },
     "execution_count": 70,
     "metadata": {},
     "output_type": "execute_result"
    }
   ],
   "source": [
    "import pandas as pd\n",
    "\n",
    "# Load Titanic dataset\n",
    "df = pd.read_csv('train.csv')\n",
    "\n",
    "# Basic summary statistics for numeric columns\n",
    "print(df.describe())\n",
    "\n",
    "# Individual statistics\n",
    "mean_age = df['Age'].mean()\n",
    "median_fare = df['Fare'].median()\n",
    "min_age = df['Age'].min()\n",
    "max_age = df['Age'].max()\n",
    "\n",
    "print(f\"Mean Age: {mean_age}, Median Fare: {median_fare}, Min Age: {min_age}, Max Age: {max_age}\")\n",
    "\n",
    "# Percentiles for 'Age'\n",
    "q1_age = df['Age'].quantile(0.25)\n",
    "median_age = df['Age'].quantile(0.50)\n",
    "q3_age = df['Age'].quantile(0.75)\n",
    "\n",
    "(f\"25th percentile (Q1) Age: {q1_age}, 50th percentile (Median) Age: {median_age}, 75th percentile (Q3) Age: {q3_age}\")\n"
   ]
  },
  {
   "cell_type": "code",
   "execution_count": 71,
   "metadata": {},
   "outputs": [
    {
     "name": "stdout",
     "output_type": "stream",
     "text": [
      "   Pclass  Survived  Count\n",
      "0       1         0     80\n",
      "1       1         1    136\n",
      "2       2         0     97\n",
      "3       2         1     87\n",
      "4       3         0    372\n",
      "5       3         1    119\n"
     ]
    }
   ],
   "source": [
    "# Group by 'Pclass' and 'Survived', and count the number of passengers\n",
    "grouped_data = df.groupby(['Pclass', 'Survived']).size().reset_index(name='Count')\n",
    "print(grouped_data)\n"
   ]
  },
  {
   "cell_type": "code",
   "execution_count": 72,
   "metadata": {},
   "outputs": [
    {
     "name": "stdout",
     "output_type": "stream",
     "text": [
      "   Pclass  Survived  Count\n",
      "0       3         0    372\n",
      "1       1         1    136\n",
      "2       3         1    119\n",
      "3       2         0     97\n",
      "4       2         1     87\n",
      "5       1         0     80\n"
     ]
    }
   ],
   "source": [
    "# Use value_counts() to get a count of passengers by 'Pclass' and 'Survived'\n",
    "grouped_data = df[['Pclass', 'Survived']].value_counts().reset_index(name='Count')\n",
    "print(grouped_data)\n"
   ]
  },
  {
   "cell_type": "code",
   "execution_count": 73,
   "metadata": {},
   "outputs": [
    {
     "name": "stdout",
     "output_type": "stream",
     "text": [
      "Survived    0    1\n",
      "Pclass            \n",
      "1          80  136\n",
      "2          97   87\n",
      "3         372  119\n"
     ]
    }
   ],
   "source": [
    "# Create a pivot table to display the number of survivors by class\n",
    "pivot_data = df.pivot_table(index='Pclass', columns='Survived', aggfunc='size', fill_value=0)\n",
    "print(pivot_data)\n"
   ]
  },
  {
   "cell_type": "code",
   "execution_count": 76,
   "metadata": {},
   "outputs": [
    {
     "name": "stdout",
     "output_type": "stream",
     "text": [
      "Grouped by Pclass and Survived:\n",
      "   Pclass  Survived  Count\n",
      "0       1         0     80\n",
      "1       1         1    136\n",
      "2       2         0     97\n",
      "3       2         1     87\n",
      "4       3         0    372\n",
      "5       3         1    119\n",
      "\n",
      "Pivot Table (Pclass vs Survived):\n",
      "Survived    0    1\n",
      "Pclass            \n",
      "1          80  136\n",
      "2          97   87\n",
      "3         372  119\n"
     ]
    }
   ],
   "source": [
    "import pandas as pd\n",
    "\n",
    "# Load Titanic dataset\n",
    "df = pd.read_csv('train.csv')\n",
    "\n",
    "# Group by 'Pclass' and 'Survived' and count the number of passengers\n",
    "grouped_data = df.groupby(['Pclass', 'Survived']).size().reset_index(name='Count')\n",
    "print(\"Grouped by Pclass and Survived:\")\n",
    "print(grouped_data)\n",
    "\n",
    "# Pivot table format for a cleaner view\n",
    "pivot_data = df.pivot_table(index='Pclass', columns='Survived', aggfunc='size', fill_value=0)\n",
    "print(\"\\nPivot Table (Pclass vs Survived):\")\n",
    "print(pivot_data)\n"
   ]
  },
  {
   "cell_type": "code",
   "execution_count": 77,
   "metadata": {},
   "outputs": [
    {
     "name": "stdout",
     "output_type": "stream",
     "text": [
      "Survived\n",
      "0    30.626179\n",
      "1    28.343690\n",
      "Name: Age, dtype: float64\n"
     ]
    }
   ],
   "source": [
    "# Group by 'Survived' and calculate the average age for each group\n",
    "average_age_by_survival = df.groupby('Survived')['Age'].mean()\n",
    "print(average_age_by_survival)\n"
   ]
  },
  {
   "cell_type": "code",
   "execution_count": 78,
   "metadata": {},
   "outputs": [
    {
     "name": "stdout",
     "output_type": "stream",
     "text": [
      "Average Age of Passengers (Survived = 1, Did not Survive = 0):\n",
      "Survived\n",
      "0    30.626179\n",
      "1    28.343690\n",
      "Name: Age, dtype: float64\n"
     ]
    }
   ],
   "source": [
    "import pandas as pd\n",
    "\n",
    "# Load Titanic dataset\n",
    "df = pd.read_csv('train.csv')\n",
    "\n",
    "# Group by 'Survived' and calculate the average age for survivors and non-survivors\n",
    "average_age_by_survival = df.groupby('Survived')['Age'].mean()\n",
    "\n",
    "print(\"Average Age of Passengers (Survived = 1, Did not Survive = 0):\")\n",
    "print(average_age_by_survival)\n"
   ]
  },
  {
   "cell_type": "code",
   "execution_count": 79,
   "metadata": {},
   "outputs": [
    {
     "name": "stdout",
     "output_type": "stream",
     "text": [
      "Sex\n",
      "male      577\n",
      "female    314\n",
      "Name: count, dtype: int64\n"
     ]
    }
   ],
   "source": [
    "# Count the occurrences of each gender in the 'Sex' column\n",
    "gender_distribution = df['Sex'].value_counts()\n",
    "print(gender_distribution)\n"
   ]
  },
  {
   "cell_type": "code",
   "execution_count": 80,
   "metadata": {},
   "outputs": [
    {
     "name": "stdout",
     "output_type": "stream",
     "text": [
      "Sex\n",
      "male      64.758698\n",
      "female    35.241302\n",
      "Name: proportion, dtype: float64\n"
     ]
    }
   ],
   "source": [
    "# Calculate the percentage distribution of each gender\n",
    "gender_percentage = df['Sex'].value_counts(normalize=True) * 100\n",
    "print(gender_percentage)\n"
   ]
  },
  {
   "cell_type": "code",
   "execution_count": 83,
   "metadata": {},
   "outputs": [
    {
     "name": "stderr",
     "output_type": "stream",
     "text": [
      "Matplotlib is building the font cache; this may take a moment.\n"
     ]
    },
    {
     "data": {
      "image/png": "[encoded data removed]",
      "text/plain": [
       "<Figure size 800x600 with 1 Axes>"
      ]
     },
     "metadata": {},
     "output_type": "display_data"
    }
   ],
   "source": [
    "import matplotlib.pyplot as plt\n",
    "\n",
    "# Plot the gender distribution\n",
    "plt.figure(figsize=(8, 6))\n",
    "df['Sex'].value_counts().plot(kind='bar', color=['blue', 'pink'])\n",
    "plt.title('Gender Distribution of Titanic Passengers')\n",
    "plt.xlabel('Gender')\n",
    "plt.ylabel('Number of Passengers')\n",
    "plt.xticks(rotation=0)\n",
    "plt.show()\n"
   ]
  },
  {
   "cell_type": "code",
   "execution_count": 82,
   "metadata": {},
   "outputs": [
    {
     "name": "stdout",
     "output_type": "stream",
     "text": [
      "Collecting matplotlib\n",
      "  Downloading matplotlib-3.9.2-cp310-cp310-win_amd64.whl (7.8 MB)\n",
      "     ---------------------------------------- 0.0/7.8 MB ? eta -:--:--\n",
      "     ---------------------------------------- 0.0/7.8 MB ? eta -:--:--\n",
      "     ---------------------------------------- 0.0/7.8 MB 330.3 kB/s eta 0:00:24\n",
      "     ---------------------------------------- 0.0/7.8 MB 219.4 kB/s eta 0:00:36\n",
      "     ---------------------------------------- 0.1/7.8 MB 374.1 kB/s eta 0:00:21\n",
      "     ---------------------------------------- 0.1/7.8 MB 374.1 kB/s eta 0:00:21\n",
      "      --------------------------------------- 0.1/7.8 MB 361.0 kB/s eta 0:00:22\n",
      "      --------------------------------------- 0.2/7.8 MB 399.3 kB/s eta 0:00:20\n",
      "      --------------------------------------- 0.2/7.8 MB 364.0 kB/s eta 0:00:22\n",
      "      --------------------------------------- 0.2/7.8 MB 380.8 kB/s eta 0:00:21\n",
      "     - -------------------------------------- 0.3/7.8 MB 505.4 kB/s eta 0:00:15\n",
      "     - -------------------------------------- 0.4/7.8 MB 620.6 kB/s eta 0:00:12\n",
      "     -- ------------------------------------- 0.5/7.8 MB 718.0 kB/s eta 0:00:11\n",
      "     --- ------------------------------------ 0.6/7.8 MB 830.3 kB/s eta 0:00:09\n",
      "     --- ------------------------------------ 0.7/7.8 MB 955.7 kB/s eta 0:00:08\n",
      "     ---- ----------------------------------- 0.8/7.8 MB 1.0 MB/s eta 0:00:07\n",
      "     ---- ----------------------------------- 0.8/7.8 MB 1.0 MB/s eta 0:00:07\n",
      "     ---- ----------------------------------- 1.0/7.8 MB 1.1 MB/s eta 0:00:07\n",
      "     ----- ---------------------------------- 1.1/7.8 MB 1.1 MB/s eta 0:00:06\n",
      "     ------ --------------------------------- 1.3/7.8 MB 1.2 MB/s eta 0:00:06\n",
      "     ------- -------------------------------- 1.4/7.8 MB 1.3 MB/s eta 0:00:05\n",
      "     ------- -------------------------------- 1.6/7.8 MB 1.4 MB/s eta 0:00:05\n",
      "     -------- ------------------------------- 1.6/7.8 MB 1.4 MB/s eta 0:00:05\n",
      "     -------- ------------------------------- 1.7/7.8 MB 1.4 MB/s eta 0:00:05\n",
      "     --------- ------------------------------ 1.8/7.8 MB 1.4 MB/s eta 0:00:05\n",
      "     ---------- ----------------------------- 2.0/7.8 MB 1.5 MB/s eta 0:00:04\n",
      "     ---------- ----------------------------- 2.1/7.8 MB 1.5 MB/s eta 0:00:04\n",
      "     ----------- ---------------------------- 2.2/7.8 MB 1.6 MB/s eta 0:00:04\n",
      "     ----------- ---------------------------- 2.3/7.8 MB 1.6 MB/s eta 0:00:04\n",
      "     ------------ --------------------------- 2.4/7.8 MB 1.6 MB/s eta 0:00:04\n",
      "     ------------ --------------------------- 2.4/7.8 MB 1.6 MB/s eta 0:00:04\n",
      "     ------------ --------------------------- 2.5/7.8 MB 1.6 MB/s eta 0:00:04\n",
      "     ------------- -------------------------- 2.6/7.8 MB 1.5 MB/s eta 0:00:04\n",
      "     ------------- -------------------------- 2.7/7.8 MB 1.6 MB/s eta 0:00:04\n",
      "     -------------- ------------------------- 2.8/7.8 MB 1.6 MB/s eta 0:00:04\n",
      "     -------------- ------------------------- 2.8/7.8 MB 1.6 MB/s eta 0:00:04\n",
      "     -------------- ------------------------- 2.9/7.8 MB 1.5 MB/s eta 0:00:04\n",
      "     --------------- ------------------------ 3.0/7.8 MB 1.6 MB/s eta 0:00:04\n",
      "     --------------- ------------------------ 3.1/7.8 MB 1.6 MB/s eta 0:00:03\n",
      "     ---------------- ----------------------- 3.2/7.8 MB 1.6 MB/s eta 0:00:03\n",
      "     ----------------- ---------------------- 3.4/7.8 MB 1.7 MB/s eta 0:00:03\n",
      "     ------------------ --------------------- 3.6/7.8 MB 1.7 MB/s eta 0:00:03\n",
      "     ------------------- -------------------- 3.7/7.8 MB 1.7 MB/s eta 0:00:03\n",
      "     -------------------- ------------------- 3.9/7.8 MB 1.7 MB/s eta 0:00:03\n",
      "     -------------------- ------------------- 4.1/7.8 MB 1.8 MB/s eta 0:00:03\n",
      "     --------------------- ------------------ 4.2/7.8 MB 1.8 MB/s eta 0:00:03\n",
      "     --------------------- ------------------ 4.2/7.8 MB 1.8 MB/s eta 0:00:03\n",
      "     --------------------- ------------------ 4.2/7.8 MB 1.8 MB/s eta 0:00:03\n",
      "     --------------------- ------------------ 4.3/7.8 MB 1.7 MB/s eta 0:00:03\n",
      "     --------------------- ------------------ 4.3/7.8 MB 1.7 MB/s eta 0:00:03\n",
      "     --------------------- ------------------ 4.3/7.8 MB 1.7 MB/s eta 0:00:03\n",
      "     --------------------- ------------------ 4.3/7.8 MB 1.6 MB/s eta 0:00:03\n",
      "     ---------------------- ----------------- 4.4/7.8 MB 1.6 MB/s eta 0:00:03\n",
      "     ---------------------- ----------------- 4.5/7.8 MB 1.6 MB/s eta 0:00:03\n",
      "     ----------------------- ---------------- 4.6/7.8 MB 1.6 MB/s eta 0:00:02\n",
      "     ----------------------- ---------------- 4.7/7.8 MB 1.7 MB/s eta 0:00:02\n",
      "     ------------------------ --------------- 4.8/7.8 MB 1.6 MB/s eta 0:00:02\n",
      "     ------------------------ --------------- 4.8/7.8 MB 1.6 MB/s eta 0:00:02\n",
      "     ------------------------- -------------- 4.9/7.8 MB 1.6 MB/s eta 0:00:02\n",
      "     -------------------------- ------------- 5.1/7.8 MB 1.7 MB/s eta 0:00:02\n",
      "     -------------------------- ------------- 5.2/7.8 MB 1.7 MB/s eta 0:00:02\n",
      "     -------------------------- ------------- 5.2/7.8 MB 1.7 MB/s eta 0:00:02\n",
      "     -------------------------- ------------- 5.2/7.8 MB 1.6 MB/s eta 0:00:02\n",
      "     -------------------------- ------------- 5.2/7.8 MB 1.6 MB/s eta 0:00:02\n",
      "     -------------------------- ------------- 5.2/7.8 MB 1.6 MB/s eta 0:00:02\n",
      "     -------------------------- ------------- 5.2/7.8 MB 1.6 MB/s eta 0:00:02\n",
      "     -------------------------- ------------- 5.2/7.8 MB 1.6 MB/s eta 0:00:02\n",
      "     -------------------------- ------------- 5.2/7.8 MB 1.5 MB/s eta 0:00:02\n",
      "     -------------------------- ------------- 5.2/7.8 MB 1.5 MB/s eta 0:00:02\n",
      "     -------------------------- ------------- 5.2/7.8 MB 1.5 MB/s eta 0:00:02\n",
      "     --------------------------- ------------ 5.3/7.8 MB 1.5 MB/s eta 0:00:02\n",
      "     --------------------------- ------------ 5.3/7.8 MB 1.5 MB/s eta 0:00:02\n",
      "     --------------------------- ------------ 5.4/7.8 MB 1.5 MB/s eta 0:00:02\n",
      "     --------------------------- ------------ 5.5/7.8 MB 1.5 MB/s eta 0:00:02\n",
      "     ---------------------------- ----------- 5.5/7.8 MB 1.4 MB/s eta 0:00:02\n",
      "     ---------------------------- ----------- 5.6/7.8 MB 1.4 MB/s eta 0:00:02\n",
      "     ----------------------------- ---------- 5.7/7.8 MB 1.4 MB/s eta 0:00:02\n",
      "     ----------------------------- ---------- 5.7/7.8 MB 1.4 MB/s eta 0:00:02\n",
      "     ----------------------------- ---------- 5.8/7.8 MB 1.4 MB/s eta 0:00:02\n",
      "     ------------------------------ --------- 5.9/7.8 MB 1.4 MB/s eta 0:00:02\n",
      "     ------------------------------ --------- 5.9/7.8 MB 1.4 MB/s eta 0:00:02\n",
      "     ------------------------------ --------- 6.0/7.8 MB 1.4 MB/s eta 0:00:02\n",
      "     ------------------------------- -------- 6.1/7.8 MB 1.4 MB/s eta 0:00:02\n",
      "     -------------------------------- ------- 6.3/7.8 MB 1.4 MB/s eta 0:00:02\n",
      "     -------------------------------- ------- 6.3/7.8 MB 1.5 MB/s eta 0:00:02\n",
      "     --------------------------------- ------ 6.5/7.8 MB 1.5 MB/s eta 0:00:01\n",
      "     --------------------------------- ------ 6.6/7.8 MB 1.5 MB/s eta 0:00:01\n",
      "     ---------------------------------- ----- 6.7/7.8 MB 1.5 MB/s eta 0:00:01\n",
      "     ---------------------------------- ----- 6.8/7.8 MB 1.5 MB/s eta 0:00:01\n",
      "     ---------------------------------- ----- 6.8/7.8 MB 1.5 MB/s eta 0:00:01\n",
      "     ---------------------------------- ----- 6.8/7.8 MB 1.5 MB/s eta 0:00:01\n",
      "     ---------------------------------- ----- 6.8/7.8 MB 1.5 MB/s eta 0:00:01\n",
      "     ---------------------------------- ----- 6.8/7.8 MB 1.5 MB/s eta 0:00:01\n",
      "     ---------------------------------- ----- 6.8/7.8 MB 1.5 MB/s eta 0:00:01\n",
      "     ---------------------------------- ----- 6.8/7.8 MB 1.5 MB/s eta 0:00:01\n",
      "     ----------------------------------- ---- 6.9/7.8 MB 1.4 MB/s eta 0:00:01\n",
      "     ----------------------------------- ---- 6.9/7.8 MB 1.4 MB/s eta 0:00:01\n",
      "     ----------------------------------- ---- 6.9/7.8 MB 1.4 MB/s eta 0:00:01\n",
      "     ----------------------------------- ---- 7.0/7.8 MB 1.4 MB/s eta 0:00:01\n",
      "     ----------------------------------- ---- 7.0/7.8 MB 1.4 MB/s eta 0:00:01\n",
      "     ----------------------------------- ---- 7.0/7.8 MB 1.4 MB/s eta 0:00:01\n",
      "     ------------------------------------ --- 7.1/7.8 MB 1.4 MB/s eta 0:00:01\n",
      "     ------------------------------------ --- 7.1/7.8 MB 1.4 MB/s eta 0:00:01\n",
      "     ------------------------------------ --- 7.1/7.8 MB 1.3 MB/s eta 0:00:01\n",
      "     ------------------------------------ --- 7.2/7.8 MB 1.3 MB/s eta 0:00:01\n",
      "     ------------------------------------- -- 7.3/7.8 MB 1.3 MB/s eta 0:00:01\n",
      "     ------------------------------------- -- 7.3/7.8 MB 1.3 MB/s eta 0:00:01\n",
      "     ------------------------------------- -- 7.3/7.8 MB 1.3 MB/s eta 0:00:01\n",
      "     ------------------------------------- -- 7.4/7.8 MB 1.3 MB/s eta 0:00:01\n",
      "     ------------------------------------- -- 7.4/7.8 MB 1.3 MB/s eta 0:00:01\n",
      "     -------------------------------------- - 7.4/7.8 MB 1.3 MB/s eta 0:00:01\n",
      "     -------------------------------------- - 7.5/7.8 MB 1.3 MB/s eta 0:00:01\n",
      "     -------------------------------------- - 7.5/7.8 MB 1.3 MB/s eta 0:00:01\n",
      "     -------------------------------------- - 7.6/7.8 MB 1.3 MB/s eta 0:00:01\n",
      "     ---------------------------------------  7.6/7.8 MB 1.3 MB/s eta 0:00:01\n",
      "     ---------------------------------------  7.7/7.8 MB 1.3 MB/s eta 0:00:01\n",
      "     ---------------------------------------  7.8/7.8 MB 1.3 MB/s eta 0:00:01\n",
      "     ---------------------------------------  7.8/7.8 MB 1.3 MB/s eta 0:00:01\n",
      "     ---------------------------------------  7.8/7.8 MB 1.2 MB/s eta 0:00:01\n",
      "     ---------------------------------------  7.8/7.8 MB 1.2 MB/s eta 0:00:01\n",
      "     ---------------------------------------- 7.8/7.8 MB 1.2 MB/s eta 0:00:00\n",
      "Collecting pillow>=8\n",
      "  Downloading pillow-10.4.0-cp310-cp310-win_amd64.whl (2.6 MB)\n",
      "     ---------------------------------------- 0.0/2.6 MB ? eta -:--:--\n",
      "     --- ------------------------------------ 0.2/2.6 MB 7.6 MB/s eta 0:00:01\n",
      "     ----- ---------------------------------- 0.3/2.6 MB 4.2 MB/s eta 0:00:01\n",
      "     ------ --------------------------------- 0.4/2.6 MB 3.3 MB/s eta 0:00:01\n",
      "     -------- ------------------------------- 0.5/2.6 MB 3.0 MB/s eta 0:00:01\n",
      "     ---------- ----------------------------- 0.7/2.6 MB 3.1 MB/s eta 0:00:01\n",
      "     ------------- -------------------------- 0.9/2.6 MB 3.1 MB/s eta 0:00:01\n",
      "     ----------------- ---------------------- 1.1/2.6 MB 3.3 MB/s eta 0:00:01\n",
      "     -------------------- ------------------- 1.3/2.6 MB 3.3 MB/s eta 0:00:01\n",
      "     ----------------------- ---------------- 1.5/2.6 MB 3.4 MB/s eta 0:00:01\n",
      "     ------------------------- -------------- 1.6/2.6 MB 3.5 MB/s eta 0:00:01\n",
      "     ---------------------------- ----------- 1.8/2.6 MB 3.6 MB/s eta 0:00:01\n",
      "     ------------------------------- -------- 2.0/2.6 MB 3.6 MB/s eta 0:00:01\n",
      "     ---------------------------------- ----- 2.2/2.6 MB 3.6 MB/s eta 0:00:01\n",
      "     ------------------------------------- -- 2.4/2.6 MB 3.6 MB/s eta 0:00:01\n",
      "     ---------------------------------------  2.5/2.6 MB 3.6 MB/s eta 0:00:01\n",
      "     ---------------------------------------- 2.6/2.6 MB 3.5 MB/s eta 0:00:00\n",
      "Requirement already satisfied: numpy>=1.23 in c:\\users\\dell\\appdata\\local\\programs\\python\\python310\\lib\\site-packages (from matplotlib) (2.1.1)\n",
      "Requirement already satisfied: packaging>=20.0 in c:\\users\\dell\\appdata\\roaming\\python\\python310\\site-packages (from matplotlib) (24.1)\n",
      "Requirement already satisfied: python-dateutil>=2.7 in c:\\users\\dell\\appdata\\local\\programs\\python\\python310\\lib\\site-packages (from matplotlib) (2.9.0.post0)\n",
      "Collecting kiwisolver>=1.3.1\n",
      "  Downloading kiwisolver-1.4.7-cp310-cp310-win_amd64.whl (55 kB)\n",
      "     ---------------------------------------- 0.0/55.9 kB ? eta -:--:--\n",
      "     -------------------------------------- 55.9/55.9 kB 971.0 kB/s eta 0:00:00\n",
      "Collecting contourpy>=1.0.1\n",
      "  Downloading contourpy-1.3.0-cp310-cp310-win_amd64.whl (216 kB)\n",
      "     ---------------------------------------- 0.0/216.0 kB ? eta -:--:--\n",
      "     ------------------------------------- 216.0/216.0 kB 12.9 MB/s eta 0:00:00\n",
      "Collecting cycler>=0.10\n",
      "  Downloading cycler-0.12.1-py3-none-any.whl (8.3 kB)\n",
      "Collecting fonttools>=4.22.0\n",
      "  Downloading fonttools-4.53.1-cp310-cp310-win_amd64.whl (2.2 MB)\n",
      "     ---------------------------------------- 0.0/2.2 MB ? eta -:--:--\n",
      "     -- ------------------------------------- 0.1/2.2 MB 3.8 MB/s eta 0:00:01\n",
      "     ----- ---------------------------------- 0.3/2.2 MB 3.8 MB/s eta 0:00:01\n",
      "     -------- ------------------------------- 0.5/2.2 MB 3.3 MB/s eta 0:00:01\n",
      "     ----------- ---------------------------- 0.6/2.2 MB 3.2 MB/s eta 0:00:01\n",
      "     ------------- -------------------------- 0.8/2.2 MB 3.2 MB/s eta 0:00:01\n",
      "     ----------------- ---------------------- 0.9/2.2 MB 3.1 MB/s eta 0:00:01\n",
      "     ------------------- -------------------- 1.1/2.2 MB 3.0 MB/s eta 0:00:01\n",
      "     -------------------- ------------------- 1.1/2.2 MB 3.0 MB/s eta 0:00:01\n",
      "     ---------------------- ----------------- 1.2/2.2 MB 2.8 MB/s eta 0:00:01\n",
      "     ------------------------ --------------- 1.4/2.2 MB 2.9 MB/s eta 0:00:01\n",
      "     -------------------------- ------------- 1.5/2.2 MB 2.8 MB/s eta 0:00:01\n",
      "     ----------------------------- ---------- 1.6/2.2 MB 2.8 MB/s eta 0:00:01\n",
      "     ------------------------------- -------- 1.7/2.2 MB 2.8 MB/s eta 0:00:01\n",
      "     --------------------------------- ------ 1.8/2.2 MB 2.6 MB/s eta 0:00:01\n",
      "     ----------------------------------- ---- 2.0/2.2 MB 2.6 MB/s eta 0:00:01\n",
      "     ---------------------------------------  2.2/2.2 MB 2.7 MB/s eta 0:00:01\n",
      "     ---------------------------------------- 2.2/2.2 MB 2.6 MB/s eta 0:00:00\n",
      "Collecting pyparsing>=2.3.1\n",
      "  Downloading pyparsing-3.1.4-py3-none-any.whl (104 kB)\n",
      "     ---------------------------------------- 0.0/104.1 kB ? eta -:--:--\n",
      "     -------------------------------------- 104.1/104.1 kB 6.3 MB/s eta 0:00:00\n",
      "Requirement already satisfied: six>=1.5 in c:\\users\\dell\\appdata\\local\\programs\\python\\python310\\lib\\site-packages (from python-dateutil>=2.7->matplotlib) (1.16.0)\n",
      "Installing collected packages: pyparsing, pillow, kiwisolver, fonttools, cycler, contourpy, matplotlib\n",
      "Successfully installed contourpy-1.3.0 cycler-0.12.1 fonttools-4.53.1 kiwisolver-1.4.7 matplotlib-3.9.2 pillow-10.4.0 pyparsing-3.1.4\n",
      "Note: you may need to restart the kernel to use updated packages.\n"
     ]
    },
    {
     "name": "stderr",
     "output_type": "stream",
     "text": [
      "\n",
      "[notice] A new release of pip is available: 23.0.1 -> 24.2\n",
      "[notice] To update, run: python.exe -m pip install --upgrade pip\n"
     ]
    }
   ],
   "source": [
    "pip install matplotlib\n"
   ]
  },
  {
   "cell_type": "code",
   "execution_count": 84,
   "metadata": {},
   "outputs": [
    {
     "name": "stdout",
     "output_type": "stream",
     "text": [
      "Gender Distribution:\n",
      "Sex\n",
      "male      577\n",
      "female    314\n",
      "Name: count, dtype: int64\n",
      "\n",
      "Percentage Distribution of Gender:\n",
      "Sex\n",
      "male      64.758698\n",
      "female    35.241302\n",
      "Name: proportion, dtype: float64\n"
     ]
    },
    {
     "data": {
      "image/png": "[encoded data removed]",
      "text/plain": [
       "<Figure size 800x600 with 1 Axes>"
      ]
     },
     "metadata": {},
     "output_type": "display_data"
    }
   ],
   "source": [
    "import pandas as pd\n",
    "import matplotlib.pyplot as plt\n",
    "\n",
    "# Load Titanic dataset\n",
    "df = pd.read_csv('train.csv')\n",
    "\n",
    "# Count the occurrences of each gender\n",
    "gender_distribution = df['Sex'].value_counts()\n",
    "print(\"Gender Distribution:\")\n",
    "print(gender_distribution)\n",
    "\n",
    "# Calculate and display the percentage distribution of each gender\n",
    "gender_percentage = df['Sex'].value_counts(normalize=True) * 100\n",
    "print(\"\\nPercentage Distribution of Gender:\")\n",
    "print(gender_percentage)\n",
    "\n",
    "# Plot the gender distribution\n",
    "plt.figure(figsize=(8, 6))\n",
    "df['Sex'].value_counts().plot(kind='bar', color=['blue', 'pink'])\n",
    "plt.title('Gender Distribution of Titanic Passengers')\n",
    "plt.xlabel('Gender')\n",
    "plt.ylabel('Number of Passengers')\n",
    "plt.xticks(rotation=0)\n",
    "plt.show()\n"
   ]
  },
  {
   "cell_type": "code",
   "execution_count": 86,
   "metadata": {},
   "outputs": [],
   "source": [
    "import pandas as pd\n",
    "\n",
    "# Load Titanic dataset\n",
    "df = pd.read_csv('train.csv')\n",
    "\n",
    "# Define the age bins and labels\n",
    "bins = [0, 18, 40, 60, float('inf')]\n",
    "labels = ['<18', '18-40', '40-60', '60+']\n",
    "\n",
    "# Bin the ages into the defined categories\n",
    "df['AgeGroup'] = pd.cut(df['Age'], bins=bins, labels=labels, right=False)\n"
   ]
  },
  {
   "cell_type": "code",
   "execution_count": 87,
   "metadata": {},
   "outputs": [
    {
     "name": "stdout",
     "output_type": "stream",
     "text": [
      "Survival Rates by Age Group (%):\n",
      "Survived          0          1\n",
      "AgeGroup                      \n",
      "<18       46.017699  53.982301\n",
      "18-40     61.643836  38.356164\n",
      "40-60     60.583942  39.416058\n",
      "60+       73.076923  26.923077\n"
     ]
    },
    {
     "name": "stderr",
     "output_type": "stream",
     "text": [
      "C:\\Users\\DELL\\AppData\\Local\\Temp\\ipykernel_16080\\2414235943.py:2: FutureWarning: The default of observed=False is deprecated and will be changed to True in a future version of pandas. Pass observed=False to retain current behavior or observed=True to adopt the future default and silence this warning.\n",
      "  age_group_survival = df.groupby(['AgeGroup', 'Survived']).size().unstack()\n"
     ]
    }
   ],
   "source": [
    "# Group by 'AgeGroup' and 'Survived', then count the number of occurrences\n",
    "age_group_survival = df.groupby(['AgeGroup', 'Survived']).size().unstack()\n",
    "\n",
    "# Calculate survival rates for each age group\n",
    "survival_rate = age_group_survival.div(age_group_survival.sum(axis=1), axis=0) * 100\n",
    "\n",
    "print(\"Survival Rates by Age Group (%):\")\n",
    "print(survival_rate)\n"
   ]
  },
  {
   "cell_type": "code",
   "execution_count": 88,
   "metadata": {},
   "outputs": [
    {
     "name": "stdout",
     "output_type": "stream",
     "text": [
      "Survival Rates by Age Group (%):\n",
      "Survived          0          1\n",
      "AgeGroup                      \n",
      "<18       46.017699  53.982301\n",
      "18-40     61.643836  38.356164\n",
      "40-60     60.583942  39.416058\n",
      "60+       73.076923  26.923077\n"
     ]
    },
    {
     "name": "stderr",
     "output_type": "stream",
     "text": [
      "C:\\Users\\DELL\\AppData\\Local\\Temp\\ipykernel_16080\\3106252513.py:14: FutureWarning: The default of observed=False is deprecated and will be changed to True in a future version of pandas. Pass observed=False to retain current behavior or observed=True to adopt the future default and silence this warning.\n",
      "  age_group_survival = df.groupby(['AgeGroup', 'Survived']).size().unstack()\n"
     ]
    }
   ],
   "source": [
    "import pandas as pd\n",
    "\n",
    "# Load Titanic dataset\n",
    "df = pd.read_csv('train.csv')\n",
    "\n",
    "# Define the age bins and labels\n",
    "bins = [0, 18, 40, 60, float('inf')]\n",
    "labels = ['<18', '18-40', '40-60', '60+']\n",
    "\n",
    "# Bin the ages into categories\n",
    "df['AgeGroup'] = pd.cut(df['Age'], bins=bins, labels=labels, right=False)\n",
    "\n",
    "# Group by 'AgeGroup' and 'Survived', then count occurrences\n",
    "age_group_survival = df.groupby(['AgeGroup', 'Survived']).size().unstack()\n",
    "\n",
    "# Calculate survival rates\n",
    "survival_rate = age_group_survival.div(age_group_survival.sum(axis=1), axis=0) * 100\n",
    "\n",
    "print(\"Survival Rates by Age Group (%):\")\n",
    "print(survival_rate)\n"
   ]
  },
  {
   "cell_type": "code",
   "execution_count": 89,
   "metadata": {},
   "outputs": [],
   "source": [
    "import pandas as pd\n",
    "\n",
    "# Load Titanic dataset\n",
    "df = pd.read_csv('train.csv')\n",
    "\n",
    "# Group by 'Pclass' and 'Sex', then count the number of occurrences\n",
    "grouped_data = df.groupby(['Pclass', 'Sex', 'Survived']).size().unstack()\n"
   ]
  },
  {
   "cell_type": "code",
   "execution_count": 90,
   "metadata": {},
   "outputs": [
    {
     "name": "stdout",
     "output_type": "stream",
     "text": [
      "Survival Rates by Gender and Class (%):\n",
      "Survived               0          1\n",
      "Pclass Sex                         \n",
      "1      female   3.191489  96.808511\n",
      "       male    63.114754  36.885246\n",
      "2      female   7.894737  92.105263\n",
      "       male    84.259259  15.740741\n",
      "3      female  50.000000  50.000000\n",
      "       male    86.455331  13.544669\n"
     ]
    }
   ],
   "source": [
    "# Calculate the total number of passengers in each group (Pclass, Sex)\n",
    "total_passengers = grouped_data.sum(axis=1)\n",
    "\n",
    "# Calculate survival rates for each group\n",
    "survival_rate = grouped_data.div(total_passengers, axis=0) * 100\n",
    "\n",
    "print(\"Survival Rates by Gender and Class (%):\")\n",
    "print(survival_rate)\n"
   ]
  },
  {
   "cell_type": "code",
   "execution_count": 91,
   "metadata": {},
   "outputs": [
    {
     "name": "stdout",
     "output_type": "stream",
     "text": [
      "Survival Rates by Gender and Class (%):\n",
      "Survived               0          1\n",
      "Pclass Sex                         \n",
      "1      female   3.191489  96.808511\n",
      "       male    63.114754  36.885246\n",
      "2      female   7.894737  92.105263\n",
      "       male    84.259259  15.740741\n",
      "3      female  50.000000  50.000000\n",
      "       male    86.455331  13.544669\n"
     ]
    }
   ],
   "source": [
    "import pandas as pd\n",
    "\n",
    "# Load Titanic dataset\n",
    "df = pd.read_csv('train.csv')\n",
    "\n",
    "# Group by 'Pclass', 'Sex', and 'Survived', then count occurrences\n",
    "grouped_data = df.groupby(['Pclass', 'Sex', 'Survived']).size().unstack().fillna(0)\n",
    "\n",
    "# Calculate the total number of passengers in each group (Pclass, Sex)\n",
    "total_passengers = grouped_data.sum(axis=1)\n",
    "\n",
    "# Calculate survival rates for each group\n",
    "survival_rate = grouped_data.div(total_passengers, axis=0) * 100\n",
    "\n",
    "print(\"Survival Rates by Gender and Class (%):\")\n",
    "print(survival_rate)\n"
   ]
  },
  {
   "cell_type": "code",
   "execution_count": 92,
   "metadata": {},
   "outputs": [
    {
     "name": "stderr",
     "output_type": "stream",
     "text": [
      "C:\\Users\\DELL\\AppData\\Local\\Temp\\ipykernel_16080\\2318172294.py:14: FutureWarning: The default of observed=False is deprecated and will be changed to True in a future version of pandas. Pass observed=False to retain current behavior or observed=True to adopt the future default and silence this warning.\n",
      "  grouped_data = df.groupby(['AgeGroup', 'Sex', 'Survived']).size().unstack().fillna(0)\n"
     ]
    }
   ],
   "source": [
    "import pandas as pd\n",
    "\n",
    "# Load Titanic dataset\n",
    "df = pd.read_csv('train.csv')\n",
    "\n",
    "# Define age bins and labels\n",
    "bins = [0, 18, 40, 60, float('inf')]\n",
    "labels = ['<18', '18-40', '40-60', '60+']\n",
    "\n",
    "# Bin the ages into categories\n",
    "df['AgeGroup'] = pd.cut(df['Age'], bins=bins, labels=labels, right=False)\n",
    "\n",
    "# Group by 'AgeGroup', 'Sex', and 'Survived', then count occurrences\n",
    "grouped_data = df.groupby(['AgeGroup', 'Sex', 'Survived']).size().unstack().fillna(0)\n",
    "\n",
    "# Calculate total passengers in each 'AgeGroup' and 'Sex'\n",
    "total_passengers = grouped_data.sum(axis=1)\n",
    "\n",
    "# Calculate survival rates for each group\n",
    "survival_rate = grouped_data.div(total_passengers, axis=0) * 100\n"
   ]
  },
  {
   "cell_type": "code",
   "execution_count": 93,
   "metadata": {},
   "outputs": [
    {
     "ename": "TypeError",
     "evalue": "cannot perform __add__ with this index type: MultiIndex",
     "output_type": "error",
     "traceback": [
      "\u001b[1;31m---------------------------------------------------------------------------\u001b[0m",
      "\u001b[1;31mTypeError\u001b[0m                                 Traceback (most recent call last)",
      "Cell \u001b[1;32mIn[93], line 8\u001b[0m\n\u001b[0;32m      6\u001b[0m \u001b[38;5;66;03m# Iterate through gender groups\u001b[39;00m\n\u001b[0;32m      7\u001b[0m \u001b[38;5;28;01mfor\u001b[39;00m gender \u001b[38;5;129;01min\u001b[39;00m survival_rate\u001b[38;5;241m.\u001b[39mcolumns:\n\u001b[1;32m----> 8\u001b[0m     plt\u001b[38;5;241m.\u001b[39mbar(\u001b[43msurvival_rate\u001b[49m\u001b[38;5;241;43m.\u001b[39;49m\u001b[43mindex\u001b[49m\u001b[43m \u001b[49m\u001b[38;5;241;43m+\u001b[39;49m\u001b[43m \u001b[49m\u001b[38;5;124;43m'\u001b[39;49m\u001b[38;5;124;43m \u001b[39;49m\u001b[38;5;124;43m'\u001b[39;49m \u001b[38;5;241m+\u001b[39m gender, survival_rate[gender], label\u001b[38;5;241m=\u001b[39m\u001b[38;5;124mf\u001b[39m\u001b[38;5;124m'\u001b[39m\u001b[38;5;124mSurvival Rate - \u001b[39m\u001b[38;5;132;01m{\u001b[39;00mgender\u001b[38;5;132;01m}\u001b[39;00m\u001b[38;5;124m'\u001b[39m)\n\u001b[0;32m     10\u001b[0m plt\u001b[38;5;241m.\u001b[39mtitle(\u001b[38;5;124m'\u001b[39m\u001b[38;5;124mSurvival Rates by Age Group and Gender\u001b[39m\u001b[38;5;124m'\u001b[39m)\n\u001b[0;32m     11\u001b[0m plt\u001b[38;5;241m.\u001b[39mxlabel(\u001b[38;5;124m'\u001b[39m\u001b[38;5;124mAge Group and Gender\u001b[39m\u001b[38;5;124m'\u001b[39m)\n",
      "File \u001b[1;32mc:\\Users\\DELL\\AppData\\Local\\Programs\\Python\\Python310\\lib\\site-packages\\pandas\\core\\ops\\invalid.py:59\u001b[0m, in \u001b[0;36mmake_invalid_op.<locals>.invalid_op\u001b[1;34m(self, other)\u001b[0m\n\u001b[0;32m     57\u001b[0m \u001b[38;5;28;01mdef\u001b[39;00m \u001b[38;5;21minvalid_op\u001b[39m(\u001b[38;5;28mself\u001b[39m, other\u001b[38;5;241m=\u001b[39m\u001b[38;5;28;01mNone\u001b[39;00m):\n\u001b[0;32m     58\u001b[0m     typ \u001b[38;5;241m=\u001b[39m \u001b[38;5;28mtype\u001b[39m(\u001b[38;5;28mself\u001b[39m)\u001b[38;5;241m.\u001b[39m\u001b[38;5;18m__name__\u001b[39m\n\u001b[1;32m---> 59\u001b[0m     \u001b[38;5;28;01mraise\u001b[39;00m \u001b[38;5;167;01mTypeError\u001b[39;00m(\u001b[38;5;124mf\u001b[39m\u001b[38;5;124m\"\u001b[39m\u001b[38;5;124mcannot perform \u001b[39m\u001b[38;5;132;01m{\u001b[39;00mname\u001b[38;5;132;01m}\u001b[39;00m\u001b[38;5;124m with this index type: \u001b[39m\u001b[38;5;132;01m{\u001b[39;00mtyp\u001b[38;5;132;01m}\u001b[39;00m\u001b[38;5;124m\"\u001b[39m)\n",
      "\u001b[1;31mTypeError\u001b[0m: cannot perform __add__ with this index type: MultiIndex"
     ]
    },
    {
     "data": {
      "text/plain": [
       "<Figure size 1200x800 with 0 Axes>"
      ]
     },
     "metadata": {},
     "output_type": "display_data"
    }
   ],
   "source": [
    "import matplotlib.pyplot as plt\n",
    "\n",
    "# Plot survival rates by age group and gender\n",
    "plt.figure(figsize=(12, 8))\n",
    "\n",
    "# Iterate through gender groups\n",
    "for gender in survival_rate.columns:\n",
    "    plt.bar(survival_rate.index + ' ' + gender, survival_rate[gender], label=f'Survival Rate - {gender}')\n",
    "\n",
    "plt.title('Survival Rates by Age Group and Gender')\n",
    "plt.xlabel('Age Group and Gender')\n",
    "plt.ylabel('Survival Rate (%)')\n",
    "plt.xticks(rotation=45)\n",
    "plt.legend(title='Gender')\n",
    "plt.tight_layout()\n",
    "\n",
    "plt.show()\n"
   ]
  },
  {
   "cell_type": "code",
   "execution_count": 97,
   "metadata": {},
   "outputs": [
    {
     "name": "stderr",
     "output_type": "stream",
     "text": [
      "C:\\Users\\DELL\\AppData\\Local\\Temp\\ipykernel_16080\\622920763.py:15: FutureWarning: The default of observed=False is deprecated and will be changed to True in a future version of pandas. Pass observed=False to retain current behavior or observed=True to adopt the future default and silence this warning.\n",
      "  grouped_data = df.groupby(['AgeGroup', 'Sex', 'Survived']).size().unstack().fillna(0)\n"
     ]
    },
    {
     "ename": "TypeError",
     "evalue": "cannot perform __add__ with this index type: MultiIndex",
     "output_type": "error",
     "traceback": [
      "\u001b[1;31m---------------------------------------------------------------------------\u001b[0m",
      "\u001b[1;31mTypeError\u001b[0m                                 Traceback (most recent call last)",
      "Cell \u001b[1;32mIn[97], line 28\u001b[0m\n\u001b[0;32m     26\u001b[0m \u001b[38;5;66;03m# Iterate through gender groups\u001b[39;00m\n\u001b[0;32m     27\u001b[0m \u001b[38;5;28;01mfor\u001b[39;00m gender \u001b[38;5;129;01min\u001b[39;00m survival_rate\u001b[38;5;241m.\u001b[39mcolumns:\n\u001b[1;32m---> 28\u001b[0m     plt\u001b[38;5;241m.\u001b[39mbar(\u001b[43msurvival_rate\u001b[49m\u001b[38;5;241;43m.\u001b[39;49m\u001b[43mindex\u001b[49m\u001b[43m \u001b[49m\u001b[38;5;241;43m+\u001b[39;49m\u001b[43m \u001b[49m\u001b[38;5;124;43m'\u001b[39;49m\u001b[38;5;124;43m \u001b[39;49m\u001b[38;5;124;43m'\u001b[39;49m \u001b[38;5;241m+\u001b[39m gender, survival_rate[gender], label\u001b[38;5;241m=\u001b[39m\u001b[38;5;124mf\u001b[39m\u001b[38;5;124m'\u001b[39m\u001b[38;5;124mSurvival Rate - \u001b[39m\u001b[38;5;132;01m{\u001b[39;00mgender\u001b[38;5;132;01m}\u001b[39;00m\u001b[38;5;124m'\u001b[39m)\n\u001b[0;32m     30\u001b[0m plt\u001b[38;5;241m.\u001b[39mtitle(\u001b[38;5;124m'\u001b[39m\u001b[38;5;124mSurvival Rates by Age Group and Gender\u001b[39m\u001b[38;5;124m'\u001b[39m)\n\u001b[0;32m     31\u001b[0m plt\u001b[38;5;241m.\u001b[39mxlabel(\u001b[38;5;124m'\u001b[39m\u001b[38;5;124mAge Group and Gender\u001b[39m\u001b[38;5;124m'\u001b[39m)\n",
      "File \u001b[1;32mc:\\Users\\DELL\\AppData\\Local\\Programs\\Python\\Python310\\lib\\site-packages\\pandas\\core\\ops\\invalid.py:59\u001b[0m, in \u001b[0;36mmake_invalid_op.<locals>.invalid_op\u001b[1;34m(self, other)\u001b[0m\n\u001b[0;32m     57\u001b[0m \u001b[38;5;28;01mdef\u001b[39;00m \u001b[38;5;21minvalid_op\u001b[39m(\u001b[38;5;28mself\u001b[39m, other\u001b[38;5;241m=\u001b[39m\u001b[38;5;28;01mNone\u001b[39;00m):\n\u001b[0;32m     58\u001b[0m     typ \u001b[38;5;241m=\u001b[39m \u001b[38;5;28mtype\u001b[39m(\u001b[38;5;28mself\u001b[39m)\u001b[38;5;241m.\u001b[39m\u001b[38;5;18m__name__\u001b[39m\n\u001b[1;32m---> 59\u001b[0m     \u001b[38;5;28;01mraise\u001b[39;00m \u001b[38;5;167;01mTypeError\u001b[39;00m(\u001b[38;5;124mf\u001b[39m\u001b[38;5;124m\"\u001b[39m\u001b[38;5;124mcannot perform \u001b[39m\u001b[38;5;132;01m{\u001b[39;00mname\u001b[38;5;132;01m}\u001b[39;00m\u001b[38;5;124m with this index type: \u001b[39m\u001b[38;5;132;01m{\u001b[39;00mtyp\u001b[38;5;132;01m}\u001b[39;00m\u001b[38;5;124m\"\u001b[39m)\n",
      "\u001b[1;31mTypeError\u001b[0m: cannot perform __add__ with this index type: MultiIndex"
     ]
    },
    {
     "data": {
      "text/plain": [
       "<Figure size 1200x800 with 0 Axes>"
      ]
     },
     "metadata": {},
     "output_type": "display_data"
    }
   ],
   "source": [
    "import pandas as pd\n",
    "import matplotlib.pyplot as plt\n",
    "\n",
    "# Load Titanic dataset\n",
    "df = pd.read_csv('train.csv')\n",
    "\n",
    "# Define age bins and labels\n",
    "bins = [0, 18, 40, 60, float('inf')]\n",
    "labels = ['<18', '18-40', '40-60', '60+']\n",
    "\n",
    "# Bin the ages into categories\n",
    "df['AgeGroup'] = pd.cut(df['Age'], bins=bins, labels=labels, right=False)\n",
    "\n",
    "# Group by 'AgeGroup', 'Sex', and 'Survived', then count occurrences\n",
    "grouped_data = df.groupby(['AgeGroup', 'Sex', 'Survived']).size().unstack().fillna(0)\n",
    "\n",
    "# Calculate total passengers in each 'AgeGroup' and 'Sex'\n",
    "total_passengers = grouped_data.sum(axis=1)\n",
    "\n",
    "# Calculate survival rates for each group\n",
    "survival_rate = grouped_data.div(total_passengers, axis=0) * 100\n",
    "\n",
    "# Plot survival rates\n",
    "plt.figure(figsize=(12, 8))\n",
    "\n",
    "# Iterate through gender groups\n",
    "for gender in survival_rate.columns:\n",
    "    plt.bar(survival_rate.index + ' ' + gender, survival_rate[gender], label=f'Survival Rate - {gender}')\n",
    "\n",
    "plt.title('Survival Rates by Age Group and Gender')\n",
    "plt.xlabel('Age Group and Gender')\n",
    "plt.ylabel('Survival Rate (%)')\n",
    "plt.xticks(rotation=45)\n",
    "plt.legend(title='Gender')\n",
    "plt.tight_layout()\n",
    "\n",
    "plt.show()\n"
   ]
  },
  {
   "cell_type": "code",
   "execution_count": 95,
   "metadata": {},
   "outputs": [],
   "source": [
    "df = df.dropna(subset=['Age', 'Survived'])\n"
   ]
  },
  {
   "cell_type": "code",
   "execution_count": 98,
   "metadata": {},
   "outputs": [
    {
     "name": "stderr",
     "output_type": "stream",
     "text": [
      "C:\\Users\\DELL\\AppData\\Local\\Temp\\ipykernel_16080\\1550354336.py:15: FutureWarning: The default of observed=False is deprecated and will be changed to True in a future version of pandas. Pass observed=False to retain current behavior or observed=True to adopt the future default and silence this warning.\n",
      "  grouped_data = df.groupby(['AgeGroup', 'Sex', 'Survived']).size().unstack().fillna(0)\n"
     ]
    },
    {
     "ename": "TypeError",
     "evalue": "cannot perform __add__ with this index type: MultiIndex",
     "output_type": "error",
     "traceback": [
      "\u001b[1;31m---------------------------------------------------------------------------\u001b[0m",
      "\u001b[1;31mTypeError\u001b[0m                                 Traceback (most recent call last)",
      "Cell \u001b[1;32mIn[98], line 28\u001b[0m\n\u001b[0;32m     26\u001b[0m \u001b[38;5;66;03m# Create a bar for each gender in each age group\u001b[39;00m\n\u001b[0;32m     27\u001b[0m \u001b[38;5;28;01mfor\u001b[39;00m i, gender \u001b[38;5;129;01min\u001b[39;00m \u001b[38;5;28menumerate\u001b[39m(survival_rate\u001b[38;5;241m.\u001b[39mcolumns):\n\u001b[1;32m---> 28\u001b[0m     plt\u001b[38;5;241m.\u001b[39mbar(\u001b[43msurvival_rate\u001b[49m\u001b[38;5;241;43m.\u001b[39;49m\u001b[43mindex\u001b[49m\u001b[43m \u001b[49m\u001b[38;5;241;43m+\u001b[39;49m\u001b[43m \u001b[49m\u001b[38;5;124;43m'\u001b[39;49m\u001b[38;5;124;43m \u001b[39;49m\u001b[38;5;124;43m'\u001b[39;49m \u001b[38;5;241m+\u001b[39m gender, survival_rate[gender], width\u001b[38;5;241m=\u001b[39m\u001b[38;5;241m0.4\u001b[39m, label\u001b[38;5;241m=\u001b[39m\u001b[38;5;124mf\u001b[39m\u001b[38;5;124m'\u001b[39m\u001b[38;5;124mSurvival Rate - \u001b[39m\u001b[38;5;132;01m{\u001b[39;00mgender\u001b[38;5;132;01m}\u001b[39;00m\u001b[38;5;124m'\u001b[39m, align\u001b[38;5;241m=\u001b[39m\u001b[38;5;124m'\u001b[39m\u001b[38;5;124mcenter\u001b[39m\u001b[38;5;124m'\u001b[39m, alpha\u001b[38;5;241m=\u001b[39m\u001b[38;5;241m0.7\u001b[39m)\n\u001b[0;32m     30\u001b[0m plt\u001b[38;5;241m.\u001b[39mtitle(\u001b[38;5;124m'\u001b[39m\u001b[38;5;124mSurvival Rates by Age Group and Gender\u001b[39m\u001b[38;5;124m'\u001b[39m)\n\u001b[0;32m     31\u001b[0m plt\u001b[38;5;241m.\u001b[39mxlabel(\u001b[38;5;124m'\u001b[39m\u001b[38;5;124mAge Group and Gender\u001b[39m\u001b[38;5;124m'\u001b[39m)\n",
      "File \u001b[1;32mc:\\Users\\DELL\\AppData\\Local\\Programs\\Python\\Python310\\lib\\site-packages\\pandas\\core\\ops\\invalid.py:59\u001b[0m, in \u001b[0;36mmake_invalid_op.<locals>.invalid_op\u001b[1;34m(self, other)\u001b[0m\n\u001b[0;32m     57\u001b[0m \u001b[38;5;28;01mdef\u001b[39;00m \u001b[38;5;21minvalid_op\u001b[39m(\u001b[38;5;28mself\u001b[39m, other\u001b[38;5;241m=\u001b[39m\u001b[38;5;28;01mNone\u001b[39;00m):\n\u001b[0;32m     58\u001b[0m     typ \u001b[38;5;241m=\u001b[39m \u001b[38;5;28mtype\u001b[39m(\u001b[38;5;28mself\u001b[39m)\u001b[38;5;241m.\u001b[39m\u001b[38;5;18m__name__\u001b[39m\n\u001b[1;32m---> 59\u001b[0m     \u001b[38;5;28;01mraise\u001b[39;00m \u001b[38;5;167;01mTypeError\u001b[39;00m(\u001b[38;5;124mf\u001b[39m\u001b[38;5;124m\"\u001b[39m\u001b[38;5;124mcannot perform \u001b[39m\u001b[38;5;132;01m{\u001b[39;00mname\u001b[38;5;132;01m}\u001b[39;00m\u001b[38;5;124m with this index type: \u001b[39m\u001b[38;5;132;01m{\u001b[39;00mtyp\u001b[38;5;132;01m}\u001b[39;00m\u001b[38;5;124m\"\u001b[39m)\n",
      "\u001b[1;31mTypeError\u001b[0m: cannot perform __add__ with this index type: MultiIndex"
     ]
    },
    {
     "data": {
      "text/plain": [
       "<Figure size 1200x800 with 0 Axes>"
      ]
     },
     "metadata": {},
     "output_type": "display_data"
    }
   ],
   "source": [
    "import pandas as pd\n",
    "import matplotlib.pyplot as plt\n",
    "\n",
    "# Load Titanic dataset\n",
    "df = pd.read_csv('train.csv')\n",
    "\n",
    "# Define age bins and labels\n",
    "bins = [0, 18, 40, 60, float('inf')]\n",
    "labels = ['<18', '18-40', '40-60', '60+']\n",
    "\n",
    "# Bin the ages into categories\n",
    "df['AgeGroup'] = pd.cut(df['Age'], bins=bins, labels=labels, right=False)\n",
    "\n",
    "# Group by 'AgeGroup', 'Sex', and 'Survived', then count occurrences\n",
    "grouped_data = df.groupby(['AgeGroup', 'Sex', 'Survived']).size().unstack().fillna(0)\n",
    "\n",
    "# Calculate total passengers in each 'AgeGroup' and 'Sex'\n",
    "total_passengers = grouped_data.sum(axis=1)\n",
    "\n",
    "# Calculate survival rates for each group\n",
    "survival_rate = grouped_data.div(total_passengers, axis=0) * 100\n",
    "\n",
    "# Plot survival rates\n",
    "plt.figure(figsize=(12, 8))\n",
    "\n",
    "# Create a bar for each gender in each age group\n",
    "for i, gender in enumerate(survival_rate.columns):\n",
    "    plt.bar(survival_rate.index + ' ' + gender, survival_rate[gender], width=0.4, label=f'Survival Rate - {gender}', align='center', alpha=0.7)\n",
    "\n",
    "plt.title('Survival Rates by Age Group and Gender')\n",
    "plt.xlabel('Age Group and Gender')\n",
    "plt.ylabel('Survival Rate (%)')\n",
    "plt.xticks(rotation=45)\n",
    "plt.legend(title='Gender')\n",
    "plt.tight_layout()\n",
    "\n",
    "plt.show()\n"
   ]
  },
  {
   "cell_type": "code",
   "execution_count": 99,
   "metadata": {},
   "outputs": [],
   "source": [
    "grouped_data = df.groupby(['AgeGroup', 'Sex', 'Survived'], observed=False).size().unstack().fillna(0)\n"
   ]
  },
  {
   "cell_type": "code",
   "execution_count": 103,
   "metadata": {},
   "outputs": [
    {
     "data": {
      "image/png": "[encoded data removed]",
      "text/plain": [
       "<Figure size 1200x800 with 1 Axes>"
      ]
     },
     "metadata": {},
     "output_type": "display_data"
    }
   ],
   "source": [
    "import pandas as pd\n",
    "import matplotlib.pyplot as plt\n",
    "\n",
    "# Load Titanic dataset\n",
    "df = pd.read_csv('train.csv')\n",
    "\n",
    "# Define age bins and labels\n",
    "bins = [0, 18, 40, 60, float('inf')]\n",
    "labels = ['<18', '18-40', '40-60', '60+']\n",
    "\n",
    "# Bin the ages into categories\n",
    "df['AgeGroup'] = pd.cut(df['Age'], bins=bins, labels=labels, right=False)\n",
    "\n",
    "# Group by 'AgeGroup', 'Sex', and 'Survived', then count occurrences\n",
    "grouped_data = df.groupby(['AgeGroup', 'Sex', 'Survived'], observed=False).size().unstack().fillna(0)\n",
    "\n",
    "# Calculate total passengers in each 'AgeGroup' and 'Sex'\n",
    "total_passengers = grouped_data.sum(axis=1)\n",
    "\n",
    "# Calculate survival rates for each group\n",
    "survival_rate = grouped_data.div(total_passengers, axis=0) * 100\n",
    "\n",
    "# Flatten MultiIndex to single index for plotting\n",
    "survival_rate.index = ['{} {}'.format(age_group, sex) for age_group, sex in survival_rate.index]\n",
    "\n",
    "# Plot survival rates\n",
    "plt.figure(figsize=(12, 8))\n",
    "\n",
    "# Create a bar for each gender in each age group\n",
    "width = 0.4  # Width of bars\n",
    "x = range(len(survival_rate.index))  # Positions of bars\n",
    "\n",
    "for i, gender in enumerate(survival_rate.columns):\n",
    "    plt.bar([pos + (i * width) for pos in x], survival_rate[gender], width=width, label=f'Survival Rate - {gender}', alpha=0.7)\n",
    "\n",
    "plt.title('Survival Rates by Age Group and Gender')\n",
    "plt.xlabel('Age Group and Gender')\n",
    "plt.ylabel('Survival Rate (%)')\n",
    "plt.xticks([pos + width / 2 for pos in x], survival_rate.index, rotation=45)\n",
    "plt.legend(title='Gender')\n",
    "plt.tight_layout()\n",
    "\n",
    "plt.show()"
   ]
  },
  {
   "cell_type": "code",
   "execution_count": null,
   "metadata": {},
   "outputs": [],
   "source": [
    "grouped_data = df.groupby(['AgeGroup', 'Sex', 'Survived'], observed=False).size().unstack().fillna(0)\n"
   ]
  }
 ],
 "metadata": {
  "kernelspec": {
   "display_name": "Python 3",
   "language": "python",
   "name": "python3"
  },
  "language_info": {
   "codemirror_mode": {
    "name": "ipython",
    "version": 3
   },
   "file_extension": ".py",
   "mimetype": "text/x-python",
   "name": "python",
   "nbconvert_exporter": "python",
   "pygments_lexer": "ipython3",
   "version": "3.10.11"
  }
 },
 "nbformat": 4,
 "nbformat_minor": 2
}
